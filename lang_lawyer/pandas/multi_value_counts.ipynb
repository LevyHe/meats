{
 "cells": [
  {
   "cell_type": "code",
   "execution_count": 1,
   "metadata": {
    "ExecuteTime": {
     "end_time": "2020-01-07T09:37:52.260041Z",
     "start_time": "2020-01-07T09:37:33.213462Z"
    }
   },
   "outputs": [],
   "source": [
    "import numpy as np\n",
    "import pandas as pd"
   ]
  },
  {
   "cell_type": "code",
   "execution_count": 7,
   "metadata": {
    "ExecuteTime": {
     "end_time": "2020-01-07T09:40:22.721832Z",
     "start_time": "2020-01-07T09:40:22.643705Z"
    }
   },
   "outputs": [
    {
     "data": {
      "text/html": [
       "<div>\n",
       "<style scoped>\n",
       "    .dataframe tbody tr th:only-of-type {\n",
       "        vertical-align: middle;\n",
       "    }\n",
       "\n",
       "    .dataframe tbody tr th {\n",
       "        vertical-align: top;\n",
       "    }\n",
       "\n",
       "    .dataframe thead th {\n",
       "        text-align: right;\n",
       "    }\n",
       "</style>\n",
       "<table border=\"1\" class=\"dataframe\">\n",
       "  <thead>\n",
       "    <tr style=\"text-align: right;\">\n",
       "      <th></th>\n",
       "      <th>x</th>\n",
       "      <th>y</th>\n",
       "      <th>dummy</th>\n",
       "    </tr>\n",
       "  </thead>\n",
       "  <tbody>\n",
       "    <tr>\n",
       "      <th>0</th>\n",
       "      <td>12</td>\n",
       "      <td>11</td>\n",
       "      <td>9</td>\n",
       "    </tr>\n",
       "    <tr>\n",
       "      <th>1</th>\n",
       "      <td>12</td>\n",
       "      <td>4</td>\n",
       "      <td>17</td>\n",
       "    </tr>\n",
       "    <tr>\n",
       "      <th>2</th>\n",
       "      <td>6</td>\n",
       "      <td>17</td>\n",
       "      <td>6</td>\n",
       "    </tr>\n",
       "    <tr>\n",
       "      <th>3</th>\n",
       "      <td>14</td>\n",
       "      <td>6</td>\n",
       "      <td>12</td>\n",
       "    </tr>\n",
       "    <tr>\n",
       "      <th>4</th>\n",
       "      <td>17</td>\n",
       "      <td>3</td>\n",
       "      <td>15</td>\n",
       "    </tr>\n",
       "  </tbody>\n",
       "</table>\n",
       "</div>"
      ],
      "text/plain": [
       "    x   y  dummy\n",
       "0  12  11      9\n",
       "1  12   4     17\n",
       "2   6  17      6\n",
       "3  14   6     12\n",
       "4  17   3     15"
      ]
     },
     "execution_count": 7,
     "metadata": {},
     "output_type": "execute_result"
    }
   ],
   "source": [
    "df = pd.DataFrame(np.random.randint(20, size=(100, 3)), columns=['x', 'y', 'dummy'])\n",
    "df.head()"
   ]
  },
  {
   "cell_type": "code",
   "execution_count": 15,
   "metadata": {
    "ExecuteTime": {
     "end_time": "2020-01-07T09:43:25.728301Z",
     "start_time": "2020-01-07T09:43:25.681469Z"
    }
   },
   "outputs": [
    {
     "data": {
      "text/plain": [
       "12    10\n",
       "0      8\n",
       "17     7\n",
       "5      7\n",
       "8      7\n",
       "Name: x, dtype: int64"
      ]
     },
     "execution_count": 15,
     "metadata": {},
     "output_type": "execute_result"
    }
   ],
   "source": [
    "# top 5\n",
    "df.x.value_counts()[:5]"
   ]
  },
  {
   "cell_type": "markdown",
   "metadata": {},
   "source": [
    "The easy way:"
   ]
  },
  {
   "cell_type": "code",
   "execution_count": 17,
   "metadata": {
    "ExecuteTime": {
     "end_time": "2020-01-07T09:44:06.219139Z",
     "start_time": "2020-01-07T09:44:06.002882Z"
    }
   },
   "outputs": [
    {
     "data": {
      "text/plain": [
       "[8, 13]     0.03\n",
       "[11, 18]    0.02\n",
       "[12, 13]    0.02\n",
       "[7, 2]      0.02\n",
       "[14, 10]    0.02\n",
       "dtype: float64"
      ]
     },
     "execution_count": 17,
     "metadata": {},
     "output_type": "execute_result"
    }
   ],
   "source": [
    "# top 5 pairs\n",
    "df[['x', 'y']].apply(list, axis=1).value_counts(normalize=True)[:5]"
   ]
  },
  {
   "cell_type": "markdown",
   "metadata": {},
   "source": [
    "The hard(?) way"
   ]
  },
  {
   "cell_type": "code",
   "execution_count": 23,
   "metadata": {
    "ExecuteTime": {
     "end_time": "2020-01-07T09:46:17.821514Z",
     "start_time": "2020-01-07T09:46:17.774619Z"
    }
   },
   "outputs": [
    {
     "data": {
      "text/plain": [
       "x   y \n",
       "8   13    3\n",
       "3   11    2\n",
       "16  9     2\n",
       "7   12    2\n",
       "19  10    2\n",
       "dtype: int64"
      ]
     },
     "execution_count": 23,
     "metadata": {},
     "output_type": "execute_result"
    }
   ],
   "source": [
    "# well, the sorting of equvalent values is neither deterministic, nor consistent between the methods.\n",
    "df.groupby(['x', 'y']).size().sort_values(ascending=False)[:5]"
   ]
  },
  {
   "cell_type": "code",
   "execution_count": 24,
   "metadata": {
    "ExecuteTime": {
     "end_time": "2020-01-07T09:48:39.656771Z",
     "start_time": "2020-01-07T09:48:39.609900Z"
    }
   },
   "outputs": [
    {
     "data": {
      "text/plain": [
       "x   y \n",
       "8   13    0.03\n",
       "3   11    0.02\n",
       "16  9     0.02\n",
       "7   12    0.02\n",
       "19  10    0.02\n",
       "dtype: float64"
      ]
     },
     "execution_count": 24,
     "metadata": {},
     "output_type": "execute_result"
    }
   ],
   "source": [
    "# normalize\n",
    "df.groupby(['x', 'y']).size().sort_values(ascending=False)[:5] / len(df)"
   ]
  },
  {
   "cell_type": "code",
   "execution_count": 26,
   "metadata": {
    "ExecuteTime": {
     "end_time": "2020-01-07T09:51:06.547156Z",
     "start_time": "2020-01-07T09:51:06.484656Z"
    }
   },
   "outputs": [
    {
     "data": {
      "text/plain": [
       "x   y \n",
       "0   0     1\n",
       "    6     1\n",
       "    8     1\n",
       "    11    1\n",
       "    13    1\n",
       "         ..\n",
       "18  14    1\n",
       "    16    1\n",
       "19  3     1\n",
       "    10    2\n",
       "    13    1\n",
       "Length: 84, dtype: int64"
      ]
     },
     "execution_count": 26,
     "metadata": {},
     "output_type": "execute_result"
    }
   ],
   "source": [
    "# sorted hierarchical index looks like this:\n",
    "df.groupby(['x', 'y']).size().sort_index()"
   ]
  },
  {
   "cell_type": "code",
   "execution_count": 25,
   "metadata": {
    "ExecuteTime": {
     "end_time": "2020-01-07T09:50:37.898671Z",
     "start_time": "2020-01-07T09:50:37.836194Z"
    }
   },
   "outputs": [
    {
     "data": {
      "text/plain": [
       "x   y \n",
       "8   13    3\n",
       "3   11    2\n",
       "16  9     2\n",
       "7   12    2\n",
       "19  10    2\n",
       "dtype: int64"
      ]
     },
     "execution_count": 25,
     "metadata": {},
     "output_type": "execute_result"
    }
   ],
   "source": [
    "# btw, is the value sorting stable, e.g. after sorting index?\n",
    "df.groupby(['x', 'y']).size().sort_index().sort_values(ascending=False)[:5]"
   ]
  },
  {
   "cell_type": "code",
   "execution_count": 27,
   "metadata": {
    "ExecuteTime": {
     "end_time": "2020-01-07T09:53:18.488456Z",
     "start_time": "2020-01-07T09:53:18.425957Z"
    }
   },
   "outputs": [
    {
     "data": {
      "text/plain": [
       "x   y \n",
       "8   13    3\n",
       "19  10    2\n",
       "17  6     2\n",
       "16  9     2\n",
       "14  10    2\n",
       "dtype: int64"
      ]
     },
     "execution_count": 27,
     "metadata": {},
     "output_type": "execute_result"
    }
   ],
   "source": [
    "# well, this depends on the choice of algorithm.\n",
    "df.groupby(['x', 'y']).size().sort_index().sort_values(ascending=False, kind='mergesort')[:5]"
   ]
  },
  {
   "cell_type": "markdown",
   "metadata": {},
   "source": [
    "Interesting - is the index sorted descending because of the value sorting order?"
   ]
  },
  {
   "cell_type": "code",
   "execution_count": 29,
   "metadata": {
    "ExecuteTime": {
     "end_time": "2020-01-07T10:14:16.445921Z",
     "start_time": "2020-01-07T10:14:16.399042Z"
    }
   },
   "outputs": [
    {
     "data": {
      "text/plain": [
       "x   y \n",
       "0   0     1\n",
       "13  11    1\n",
       "    9     1\n",
       "    2     1\n",
       "12  15    1\n",
       "dtype: int64"
      ]
     },
     "execution_count": 29,
     "metadata": {},
     "output_type": "execute_result"
    }
   ],
   "source": [
    "df.groupby(['x', 'y']).size().sort_index().sort_values()[:5]"
   ]
  },
  {
   "cell_type": "code",
   "execution_count": 30,
   "metadata": {
    "ExecuteTime": {
     "end_time": "2020-01-07T10:14:21.802722Z",
     "start_time": "2020-01-07T10:14:21.755848Z"
    }
   },
   "outputs": [
    {
     "data": {
      "text/plain": [
       "x  y \n",
       "0  0     1\n",
       "   6     1\n",
       "   8     1\n",
       "   11    1\n",
       "   13    1\n",
       "dtype: int64"
      ]
     },
     "execution_count": 30,
     "metadata": {},
     "output_type": "execute_result"
    }
   ],
   "source": [
    "df.groupby(['x', 'y']).size().sort_index().sort_values(kind='mergesort')[:5]"
   ]
  },
  {
   "cell_type": "markdown",
   "metadata": {},
   "source": [
    "### Conclusions\n",
    "It's not very hard either way, in case of `groupby` we get \"for free\" a hierarchical index.\n",
    "\n",
    "We can use a stable sorting algorithm, to get the index values in order."
   ]
  }
 ],
 "metadata": {
  "kernelspec": {
   "display_name": "Python 3",
   "language": "python",
   "name": "python3"
  },
  "language_info": {
   "codemirror_mode": {
    "name": "ipython",
    "version": 3
   },
   "file_extension": ".py",
   "mimetype": "text/x-python",
   "name": "python",
   "nbconvert_exporter": "python",
   "pygments_lexer": "ipython3",
   "version": "3.7.1"
  }
 },
 "nbformat": 4,
 "nbformat_minor": 2
}
