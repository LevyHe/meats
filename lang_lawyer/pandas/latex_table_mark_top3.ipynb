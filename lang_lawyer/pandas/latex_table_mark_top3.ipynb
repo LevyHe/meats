{
 "cells": [
  {
   "cell_type": "code",
   "execution_count": 1,
   "metadata": {
    "ExecuteTime": {
     "end_time": "2020-10-21T13:03:46.343603Z",
     "start_time": "2020-10-21T13:03:46.095774Z"
    }
   },
   "outputs": [],
   "source": [
    "import numpy as np\n",
    "import pandas as pd"
   ]
  },
  {
   "cell_type": "code",
   "execution_count": 2,
   "metadata": {
    "ExecuteTime": {
     "end_time": "2020-10-21T13:03:46.348820Z",
     "start_time": "2020-10-21T13:03:46.344939Z"
    }
   },
   "outputs": [],
   "source": [
    "df = pd.DataFrame(np.random.rand(15, 5), columns=list('abcde'))"
   ]
  },
  {
   "cell_type": "markdown",
   "metadata": {},
   "source": [
    "First try - this doesn't work:"
   ]
  },
  {
   "cell_type": "code",
   "execution_count": 3,
   "metadata": {
    "ExecuteTime": {
     "end_time": "2020-10-21T13:03:46.363021Z",
     "start_time": "2020-10-21T13:03:46.351253Z"
    }
   },
   "outputs": [],
   "source": [
    "def wrap(df, top, col, smallest, float_format):\n",
    "    top_N = df[col].sort_values(ascending=smallest)[:top]\n",
    "\n",
    "    def do_format(value):\n",
    "        # print(f'{value} in {top_N}?')\n",
    "        if value == top_N.iloc[0]:\n",
    "            return f'\\\\textbf{\"{\"}{float_format % value}{\"}\"}'\n",
    "        elif value in top_N[1:]:\n",
    "            return f'\\\\underline{\"{\"}{float_format % value}{\"}\"}'\n",
    "        else:\n",
    "            return float_format % value\n",
    "    return do_format\n",
    "\n",
    "def highlight_best_formatters(df, top=3, smallest=False, float_format='%.3f'):\n",
    "    formatters = {}\n",
    "    for col in df.columns:            \n",
    "        formatters[col] = wrap(df, top, col, smallest, float_format)\n",
    "    return formatters"
   ]
  },
  {
   "cell_type": "code",
   "execution_count": 4,
   "metadata": {
    "ExecuteTime": {
     "end_time": "2020-10-21T13:03:46.380903Z",
     "start_time": "2020-10-21T13:03:46.364530Z"
    }
   },
   "outputs": [
    {
     "name": "stdout",
     "output_type": "stream",
     "text": [
      "\\begin{tabular}{lrrrrr}\n",
      "\\toprule\n",
      "{} &              a &              b &              c &              d &              e \\\\\n",
      "\\midrule\n",
      "6  &          0.001 &          0.553 &          0.575 &          0.234 &          0.376 \\\\\n",
      "0  &          0.062 &          0.654 & \\textbackslash textbf\\{0.978\\} & \\textbackslash textbf\\{0.979\\} &          0.150 \\\\\n",
      "5  &          0.069 &          0.246 &          0.620 &          0.540 &          0.245 \\\\\n",
      "12 &          0.266 & \\textbackslash textbf\\{0.991\\} &          0.558 &          0.561 &          0.813 \\\\\n",
      "4  &          0.288 &          0.857 &          0.352 &          0.022 &          0.393 \\\\\n",
      "8  &          0.330 &          0.447 &          0.263 &          0.789 &          0.379 \\\\\n",
      "14 &          0.549 &          0.378 &          0.614 &          0.065 &          0.442 \\\\\n",
      "3  &          0.599 &          0.154 &          0.341 &          0.024 &          0.427 \\\\\n",
      "1  &          0.671 &          0.506 &          0.063 &          0.912 &          0.018 \\\\\n",
      "9  &          0.684 &          0.269 &          0.773 &          0.961 &          0.397 \\\\\n",
      "11 &          0.748 &          0.905 &          0.557 &          0.428 &          0.836 \\\\\n",
      "7  &          0.785 &          0.283 &          0.294 &          0.104 &          0.831 \\\\\n",
      "10 &          0.847 &          0.222 &          0.806 &          0.687 & \\textbackslash textbf\\{0.937\\} \\\\\n",
      "2  &          0.886 &          0.741 &          0.184 &          0.020 &          0.416 \\\\\n",
      "13 & \\textbackslash textbf\\{0.918\\} &          0.529 &          0.771 &          0.756 &          0.572 \\\\\n",
      "\\bottomrule\n",
      "\\end{tabular}\n",
      "\n"
     ]
    }
   ],
   "source": [
    "print(df.sort_values('a').to_latex(formatters=highlight_best_formatters(df)))"
   ]
  },
  {
   "cell_type": "markdown",
   "metadata": {},
   "source": [
    "Why?"
   ]
  },
  {
   "cell_type": "code",
   "execution_count": 5,
   "metadata": {
    "ExecuteTime": {
     "end_time": "2020-10-21T13:03:46.392822Z",
     "start_time": "2020-10-21T13:03:46.383016Z"
    }
   },
   "outputs": [],
   "source": [
    "top = df['a'].sort_values()[:5]"
   ]
  },
  {
   "cell_type": "code",
   "execution_count": 6,
   "metadata": {
    "ExecuteTime": {
     "end_time": "2020-10-21T13:03:46.410084Z",
     "start_time": "2020-10-21T13:03:46.394331Z"
    }
   },
   "outputs": [
    {
     "data": {
      "text/plain": [
       "[False,\n",
       " False,\n",
       " False,\n",
       " False,\n",
       " False,\n",
       " False,\n",
       " False,\n",
       " False,\n",
       " False,\n",
       " False,\n",
       " False,\n",
       " False,\n",
       " False,\n",
       " False,\n",
       " False]"
      ]
     },
     "execution_count": 6,
     "metadata": {},
     "output_type": "execute_result"
    }
   ],
   "source": [
    "[df['a'][i] in top for i in range(len(df))]"
   ]
  },
  {
   "cell_type": "code",
   "execution_count": 7,
   "metadata": {
    "ExecuteTime": {
     "end_time": "2020-10-21T13:03:46.424425Z",
     "start_time": "2020-10-21T13:03:46.412008Z"
    }
   },
   "outputs": [
    {
     "data": {
      "text/plain": [
       "[True,\n",
       " False,\n",
       " False,\n",
       " False,\n",
       " True,\n",
       " True,\n",
       " True,\n",
       " False,\n",
       " False,\n",
       " False,\n",
       " False,\n",
       " False,\n",
       " True,\n",
       " False,\n",
       " False]"
      ]
     },
     "execution_count": 7,
     "metadata": {},
     "output_type": "execute_result"
    }
   ],
   "source": [
    "[df['a'][i] in set(top) for i in range(len(df))]"
   ]
  },
  {
   "cell_type": "markdown",
   "metadata": {},
   "source": [
    "New way:"
   ]
  },
  {
   "cell_type": "code",
   "execution_count": 8,
   "metadata": {
    "ExecuteTime": {
     "end_time": "2020-10-21T13:03:46.433574Z",
     "start_time": "2020-10-21T13:03:46.426272Z"
    }
   },
   "outputs": [],
   "source": [
    "def _wrap(df, top, col, smallest, float_format):\n",
    "    \"\"\"If this was inlined, do_format would bind to the variables in the other function.\"\"\"\n",
    "    top_N = df[col].sort_values(ascending=smallest)[:top]\n",
    "    top = set(top_N)\n",
    "    tip = max(top_N)\n",
    "    \n",
    "    def do_format(value):\n",
    "        # print(f'{value} in {top_N}?')\n",
    "        if value == tip:\n",
    "            return f'\\\\textbf{\"{\"}{float_format % value}{\"}\"}'\n",
    "        elif value in top:\n",
    "            return f'\\\\underline{\"{\"}{float_format % value}{\"}\"}'\n",
    "        else:\n",
    "            return float_format % value\n",
    "    return do_format\n",
    "\n",
    "def highlight_best_formatters(df, top=3, smallest=False, float_format='%.3f'):\n",
    "    formatters = {}\n",
    "    for col in df.columns:            \n",
    "        formatters[col] = _wrap(df, top, col, smallest, float_format)\n",
    "    return formatters"
   ]
  },
  {
   "cell_type": "code",
   "execution_count": 9,
   "metadata": {
    "ExecuteTime": {
     "end_time": "2020-10-21T13:03:46.448109Z",
     "start_time": "2020-10-21T13:03:46.436246Z"
    }
   },
   "outputs": [
    {
     "name": "stdout",
     "output_type": "stream",
     "text": [
      "\\begin{tabular}{lrrrrr}\n",
      "\\toprule\n",
      "{} &                 a &                 b &                 c &                 d &                 e \\\\\n",
      "\\midrule\n",
      "6  &             0.001 &             0.553 &             0.575 &             0.234 &             0.376 \\\\\n",
      "0  &             0.062 &             0.654 &    \\textbackslash textbf\\{0.978\\} &    \\textbackslash textbf\\{0.979\\} &             0.150 \\\\\n",
      "5  &             0.069 &             0.246 &             0.620 &             0.540 &             0.245 \\\\\n",
      "12 &             0.266 &    \\textbackslash textbf\\{0.991\\} &             0.558 &             0.561 &             0.813 \\\\\n",
      "4  &             0.288 & \\textbackslash underline\\{0.857\\} &             0.352 &             0.022 &             0.393 \\\\\n",
      "8  &             0.330 &             0.447 &             0.263 &             0.789 &             0.379 \\\\\n",
      "14 &             0.549 &             0.378 &             0.614 &             0.065 &             0.442 \\\\\n",
      "3  &             0.599 &             0.154 &             0.341 &             0.024 &             0.427 \\\\\n",
      "1  &             0.671 &             0.506 &             0.063 & \\textbackslash underline\\{0.912\\} &             0.018 \\\\\n",
      "9  &             0.684 &             0.269 & \\textbackslash underline\\{0.773\\} & \\textbackslash underline\\{0.961\\} &             0.397 \\\\\n",
      "11 &             0.748 & \\textbackslash underline\\{0.905\\} &             0.557 &             0.428 & \\textbackslash underline\\{0.836\\} \\\\\n",
      "7  &             0.785 &             0.283 &             0.294 &             0.104 & \\textbackslash underline\\{0.831\\} \\\\\n",
      "10 & \\textbackslash underline\\{0.847\\} &             0.222 & \\textbackslash underline\\{0.806\\} &             0.687 &    \\textbackslash textbf\\{0.937\\} \\\\\n",
      "2  & \\textbackslash underline\\{0.886\\} &             0.741 &             0.184 &             0.020 &             0.416 \\\\\n",
      "13 &    \\textbackslash textbf\\{0.918\\} &             0.529 &             0.771 &             0.756 &             0.572 \\\\\n",
      "\\bottomrule\n",
      "\\end{tabular}\n",
      "\n"
     ]
    }
   ],
   "source": [
    "print(df.sort_values('a').to_latex(formatters=highlight_best_formatters(df)))"
   ]
  },
  {
   "cell_type": "markdown",
   "metadata": {},
   "source": [
    "Not there yet - `\\textbackslash `?"
   ]
  },
  {
   "cell_type": "code",
   "execution_count": 10,
   "metadata": {
    "ExecuteTime": {
     "end_time": "2020-10-21T13:03:46.466450Z",
     "start_time": "2020-10-21T13:03:46.449988Z"
    }
   },
   "outputs": [
    {
     "name": "stdout",
     "output_type": "stream",
     "text": [
      "\\begin{tabular}{lrrrrr}\n",
      "\\toprule\n",
      "{} &                 a &                 b &                 c &                 d &                 e \\\\\n",
      "\\midrule\n",
      "6  &             0.001 &             0.553 &             0.575 &             0.234 &             0.376 \\\\\n",
      "0  &             0.062 &             0.654 &    \\textbf\\{0.978\\} &    \\textbf\\{0.979\\} &             0.150 \\\\\n",
      "5  &             0.069 &             0.246 &             0.620 &             0.540 &             0.245 \\\\\n",
      "12 &             0.266 &    \\textbf\\{0.991\\} &             0.558 &             0.561 &             0.813 \\\\\n",
      "4  &             0.288 & \\underline\\{0.857\\} &             0.352 &             0.022 &             0.393 \\\\\n",
      "8  &             0.330 &             0.447 &             0.263 &             0.789 &             0.379 \\\\\n",
      "14 &             0.549 &             0.378 &             0.614 &             0.065 &             0.442 \\\\\n",
      "3  &             0.599 &             0.154 &             0.341 &             0.024 &             0.427 \\\\\n",
      "1  &             0.671 &             0.506 &             0.063 & \\underline\\{0.912\\} &             0.018 \\\\\n",
      "9  &             0.684 &             0.269 & \\underline\\{0.773\\} & \\underline\\{0.961\\} &             0.397 \\\\\n",
      "11 &             0.748 & \\underline\\{0.905\\} &             0.557 &             0.428 & \\underline\\{0.836\\} \\\\\n",
      "7  &             0.785 &             0.283 &             0.294 &             0.104 & \\underline\\{0.831\\} \\\\\n",
      "10 & \\underline\\{0.847\\} &             0.222 & \\underline\\{0.806\\} &             0.687 &    \\textbf\\{0.937\\} \\\\\n",
      "2  & \\underline\\{0.886\\} &             0.741 &             0.184 &             0.020 &             0.416 \\\\\n",
      "13 &    \\textbf\\{0.918\\} &             0.529 &             0.771 &             0.756 &             0.572 \\\\\n",
      "\\bottomrule\n",
      "\\end{tabular}\n",
      "\n"
     ]
    }
   ],
   "source": [
    "print(df.sort_values('a').to_latex(formatters=highlight_best_formatters(df)).replace('\\\\textbackslash ', '\\\\'))"
   ]
  },
  {
   "cell_type": "markdown",
   "metadata": {},
   "source": [
    "No, this is still wrong - the `{` and `}` are escaped. Not elegant, but we can still prevail:"
   ]
  },
  {
   "cell_type": "code",
   "execution_count": 11,
   "metadata": {
    "ExecuteTime": {
     "end_time": "2020-10-21T13:03:46.476737Z",
     "start_time": "2020-10-21T13:03:46.467514Z"
    }
   },
   "outputs": [
    {
     "name": "stdout",
     "output_type": "stream",
     "text": [
      "\\begin{tabular}{lrrrrr}\n",
      "\\toprule\n",
      "{} &                 a &                 b &                 c &                 d &                 e \\\\\n",
      "\\midrule\n",
      "6  &             0.001 &             0.553 &             0.575 &             0.234 &             0.376 \\\\\n",
      "0  &             0.062 &             0.654 &    \\textbf{0.978} &    \\textbf{0.979} &             0.150 \\\\\n",
      "5  &             0.069 &             0.246 &             0.620 &             0.540 &             0.245 \\\\\n",
      "12 &             0.266 &    \\textbf{0.991} &             0.558 &             0.561 &             0.813 \\\\\n",
      "4  &             0.288 & \\underline{0.857} &             0.352 &             0.022 &             0.393 \\\\\n",
      "8  &             0.330 &             0.447 &             0.263 &             0.789 &             0.379 \\\\\n",
      "14 &             0.549 &             0.378 &             0.614 &             0.065 &             0.442 \\\\\n",
      "3  &             0.599 &             0.154 &             0.341 &             0.024 &             0.427 \\\\\n",
      "1  &             0.671 &             0.506 &             0.063 & \\underline{0.912} &             0.018 \\\\\n",
      "9  &             0.684 &             0.269 & \\underline{0.773} & \\underline{0.961} &             0.397 \\\\\n",
      "11 &             0.748 & \\underline{0.905} &             0.557 &             0.428 & \\underline{0.836} \\\\\n",
      "7  &             0.785 &             0.283 &             0.294 &             0.104 & \\underline{0.831} \\\\\n",
      "10 & \\underline{0.847} &             0.222 & \\underline{0.806} &             0.687 &    \\textbf{0.937} \\\\\n",
      "2  & \\underline{0.886} &             0.741 &             0.184 &             0.020 &             0.416 \\\\\n",
      "13 &    \\textbf{0.918} &             0.529 &             0.771 &             0.756 &             0.572 \\\\\n",
      "\\bottomrule\n",
      "\\end{tabular}\n",
      "\n"
     ]
    }
   ],
   "source": [
    "print(\n",
    "    df.sort_values('a').to_latex(formatters=highlight_best_formatters(df)\n",
    "    ).replace('\\\\textbackslash ', '\\\\'           \n",
    "    ).replace('\\\\{', '{'\n",
    "    ).replace('\\\\}', '}'\n",
    "    )\n",
    ")"
   ]
  },
  {
   "cell_type": "code",
   "execution_count": 12,
   "metadata": {
    "ExecuteTime": {
     "end_time": "2020-10-21T13:03:46.485525Z",
     "start_time": "2020-10-21T13:03:46.477794Z"
    }
   },
   "outputs": [
    {
     "data": {
      "text/plain": [
       "{'a': <function __main__._wrap.<locals>.do_format(value)>,\n",
       " 'b': <function __main__._wrap.<locals>.do_format(value)>,\n",
       " 'c': <function __main__._wrap.<locals>.do_format(value)>,\n",
       " 'd': <function __main__._wrap.<locals>.do_format(value)>,\n",
       " 'e': <function __main__._wrap.<locals>.do_format(value)>}"
      ]
     },
     "execution_count": 12,
     "metadata": {},
     "output_type": "execute_result"
    }
   ],
   "source": [
    "# just curious\n",
    "highlight_best_formatters(df)"
   ]
  },
  {
   "cell_type": "code",
   "execution_count": 13,
   "metadata": {
    "ExecuteTime": {
     "end_time": "2020-10-21T13:03:46.499639Z",
     "start_time": "2020-10-21T13:03:46.486901Z"
    }
   },
   "outputs": [
    {
     "name": "stdout",
     "output_type": "stream",
     "text": [
      "|    |         a |        b |         c |         d |         e |\n",
      "|---:|----------:|---------:|----------:|----------:|----------:|\n",
      "|  6 | 0.0013934 | 0.553195 | 0.575358  | 0.233873  | 0.375585  |\n",
      "|  0 | 0.0621873 | 0.653801 | 0.977735  | 0.978553  | 0.149937  |\n",
      "|  5 | 0.069436  | 0.246411 | 0.619638  | 0.540077  | 0.245042  |\n",
      "| 12 | 0.265707  | 0.991039 | 0.557707  | 0.561196  | 0.813315  |\n",
      "|  4 | 0.287694  | 0.857394 | 0.351649  | 0.0224172 | 0.392871  |\n",
      "|  8 | 0.330043  | 0.446655 | 0.262996  | 0.789314  | 0.379058  |\n",
      "| 14 | 0.54936   | 0.37831  | 0.613509  | 0.0646641 | 0.441517  |\n",
      "|  3 | 0.598793  | 0.153997 | 0.340737  | 0.0240907 | 0.426835  |\n",
      "|  1 | 0.671455  | 0.505958 | 0.0631812 | 0.91176   | 0.0181395 |\n",
      "|  9 | 0.6835    | 0.269331 | 0.77331   | 0.961203  | 0.39736   |\n",
      "| 11 | 0.748438  | 0.904598 | 0.557228  | 0.427526  | 0.835697  |\n",
      "|  7 | 0.784577  | 0.282613 | 0.293526  | 0.104375  | 0.830668  |\n",
      "| 10 | 0.846529  | 0.221557 | 0.806278  | 0.687463  | 0.937165  |\n",
      "|  2 | 0.886484  | 0.741416 | 0.183655  | 0.020167  | 0.416224  |\n",
      "| 13 | 0.917943  | 0.528622 | 0.771195  | 0.756434  | 0.572145  |\n"
     ]
    }
   ],
   "source": [
    "print(df.sort_values('a').to_markdown())"
   ]
  },
  {
   "cell_type": "code",
   "execution_count": 14,
   "metadata": {
    "ExecuteTime": {
     "end_time": "2020-10-21T13:03:46.505241Z",
     "start_time": "2020-10-21T13:03:46.502391Z"
    }
   },
   "outputs": [],
   "source": [
    "from IPython.display import Markdown"
   ]
  },
  {
   "cell_type": "code",
   "execution_count": 15,
   "metadata": {
    "ExecuteTime": {
     "end_time": "2020-10-21T13:03:46.516348Z",
     "start_time": "2020-10-21T13:03:46.507061Z"
    }
   },
   "outputs": [
    {
     "data": {
      "text/markdown": [
       "|    |         a |        b |         c |         d |         e |\n",
       "|---:|----------:|---------:|----------:|----------:|----------:|\n",
       "|  6 | 0.0013934 | 0.553195 | 0.575358  | 0.233873  | 0.375585  |\n",
       "|  0 | 0.0621873 | 0.653801 | 0.977735  | 0.978553  | 0.149937  |\n",
       "|  5 | 0.069436  | 0.246411 | 0.619638  | 0.540077  | 0.245042  |\n",
       "| 12 | 0.265707  | 0.991039 | 0.557707  | 0.561196  | 0.813315  |\n",
       "|  4 | 0.287694  | 0.857394 | 0.351649  | 0.0224172 | 0.392871  |\n",
       "|  8 | 0.330043  | 0.446655 | 0.262996  | 0.789314  | 0.379058  |\n",
       "| 14 | 0.54936   | 0.37831  | 0.613509  | 0.0646641 | 0.441517  |\n",
       "|  3 | 0.598793  | 0.153997 | 0.340737  | 0.0240907 | 0.426835  |\n",
       "|  1 | 0.671455  | 0.505958 | 0.0631812 | 0.91176   | 0.0181395 |\n",
       "|  9 | 0.6835    | 0.269331 | 0.77331   | 0.961203  | 0.39736   |\n",
       "| 11 | 0.748438  | 0.904598 | 0.557228  | 0.427526  | 0.835697  |\n",
       "|  7 | 0.784577  | 0.282613 | 0.293526  | 0.104375  | 0.830668  |\n",
       "| 10 | 0.846529  | 0.221557 | 0.806278  | 0.687463  | 0.937165  |\n",
       "|  2 | 0.886484  | 0.741416 | 0.183655  | 0.020167  | 0.416224  |\n",
       "| 13 | 0.917943  | 0.528622 | 0.771195  | 0.756434  | 0.572145  |"
      ],
      "text/plain": [
       "<IPython.core.display.Markdown object>"
      ]
     },
     "execution_count": 15,
     "metadata": {},
     "output_type": "execute_result"
    }
   ],
   "source": [
    "Markdown(df.sort_values('a').to_markdown())"
   ]
  },
  {
   "cell_type": "code",
   "execution_count": 16,
   "metadata": {
    "ExecuteTime": {
     "end_time": "2020-10-21T13:03:46.590981Z",
     "start_time": "2020-10-21T13:03:46.517458Z"
    }
   },
   "outputs": [
    {
     "ename": "TypeError",
     "evalue": "tabulate() got an unexpected keyword argument 'formatters'",
     "output_type": "error",
     "traceback": [
      "\u001b[0;31m---------------------------------------------------------------------------\u001b[0m",
      "\u001b[0;31mTypeError\u001b[0m                                 Traceback (most recent call last)",
      "\u001b[0;32m<ipython-input-16-c061ca8b2347>\u001b[0m in \u001b[0;36m<module>\u001b[0;34m\u001b[0m\n\u001b[0;32m----> 1\u001b[0;31m \u001b[0mMarkdown\u001b[0m\u001b[0;34m(\u001b[0m\u001b[0mdf\u001b[0m\u001b[0;34m.\u001b[0m\u001b[0msort_values\u001b[0m\u001b[0;34m(\u001b[0m\u001b[0;34m'a'\u001b[0m\u001b[0;34m)\u001b[0m\u001b[0;34m.\u001b[0m\u001b[0mto_markdown\u001b[0m\u001b[0;34m(\u001b[0m\u001b[0mformatters\u001b[0m\u001b[0;34m=\u001b[0m\u001b[0mhighlight_best_formatters\u001b[0m\u001b[0;34m(\u001b[0m\u001b[0mdf\u001b[0m\u001b[0;34m)\u001b[0m\u001b[0;34m)\u001b[0m\u001b[0;34m)\u001b[0m\u001b[0;34m\u001b[0m\u001b[0;34m\u001b[0m\u001b[0m\n\u001b[0m",
      "\u001b[0;32m~/anaconda3/lib/python3.7/site-packages/pandas/core/frame.py\u001b[0m in \u001b[0;36mto_markdown\u001b[0;34m(self, buf, mode, index, **kwargs)\u001b[0m\n\u001b[1;32m   2260\u001b[0m         \u001b[0mkwargs\u001b[0m\u001b[0;34m.\u001b[0m\u001b[0msetdefault\u001b[0m\u001b[0;34m(\u001b[0m\u001b[0;34m\"showindex\"\u001b[0m\u001b[0;34m,\u001b[0m \u001b[0mindex\u001b[0m\u001b[0;34m)\u001b[0m\u001b[0;34m\u001b[0m\u001b[0;34m\u001b[0m\u001b[0m\n\u001b[1;32m   2261\u001b[0m         \u001b[0mtabulate\u001b[0m \u001b[0;34m=\u001b[0m \u001b[0mimport_optional_dependency\u001b[0m\u001b[0;34m(\u001b[0m\u001b[0;34m\"tabulate\"\u001b[0m\u001b[0;34m)\u001b[0m\u001b[0;34m\u001b[0m\u001b[0;34m\u001b[0m\u001b[0m\n\u001b[0;32m-> 2262\u001b[0;31m         \u001b[0mresult\u001b[0m \u001b[0;34m=\u001b[0m \u001b[0mtabulate\u001b[0m\u001b[0;34m.\u001b[0m\u001b[0mtabulate\u001b[0m\u001b[0;34m(\u001b[0m\u001b[0mself\u001b[0m\u001b[0;34m,\u001b[0m \u001b[0;34m**\u001b[0m\u001b[0mkwargs\u001b[0m\u001b[0;34m)\u001b[0m\u001b[0;34m\u001b[0m\u001b[0;34m\u001b[0m\u001b[0m\n\u001b[0m\u001b[1;32m   2263\u001b[0m         \u001b[0;32mif\u001b[0m \u001b[0mbuf\u001b[0m \u001b[0;32mis\u001b[0m \u001b[0;32mNone\u001b[0m\u001b[0;34m:\u001b[0m\u001b[0;34m\u001b[0m\u001b[0;34m\u001b[0m\u001b[0m\n\u001b[1;32m   2264\u001b[0m             \u001b[0;32mreturn\u001b[0m \u001b[0mresult\u001b[0m\u001b[0;34m\u001b[0m\u001b[0;34m\u001b[0m\u001b[0m\n",
      "\u001b[0;31mTypeError\u001b[0m: tabulate() got an unexpected keyword argument 'formatters'"
     ]
    }
   ],
   "source": [
    "Markdown(df.sort_values('a').to_markdown(formatters=highlight_best_formatters(df)))"
   ]
  },
  {
   "cell_type": "markdown",
   "metadata": {},
   "source": [
    "So, Markdown doesn't allow for formatters. But then, LaTeX didn't have them for what we're doing either."
   ]
  },
  {
   "cell_type": "code",
   "execution_count": null,
   "metadata": {
    "ExecuteTime": {
     "end_time": "2020-10-21T13:03:46.592565Z",
     "start_time": "2020-10-21T13:03:46.165Z"
    }
   },
   "outputs": [],
   "source": [
    "def to_latex_topN(df, top=3, print=print):\n",
    "    output = df.to_latex(formatters=highlight_best_formatters(df, top=top)\n",
    "        ).replace('\\\\textbackslash ', '\\\\'           \n",
    "        ).replace('\\\\{', '{'\n",
    "        ).replace('\\\\}', '}')\n",
    "    if print:\n",
    "        print(output)\n",
    "        return None\n",
    "    return output\n"
   ]
  },
  {
   "cell_type": "code",
   "execution_count": null,
   "metadata": {
    "ExecuteTime": {
     "end_time": "2020-10-21T13:03:46.593659Z",
     "start_time": "2020-10-21T13:03:46.168Z"
    }
   },
   "outputs": [],
   "source": [
    "to_latex_topN(df)"
   ]
  },
  {
   "cell_type": "code",
   "execution_count": null,
   "metadata": {
    "ExecuteTime": {
     "end_time": "2020-10-21T13:03:46.594874Z",
     "start_time": "2020-10-21T13:03:46.172Z"
    }
   },
   "outputs": [],
   "source": [
    "to_latex_topN(df, print=False)"
   ]
  },
  {
   "cell_type": "markdown",
   "metadata": {},
   "source": [
    "### Gotchas\n",
    "* the alignment of output is done before escaping (this will show with undeerscores...\n",
    "* what about other arguments to `to_latex`? (like `caption`) - pass them."
   ]
  }
 ],
 "metadata": {
  "kernelspec": {
   "display_name": "Python 3",
   "language": "python",
   "name": "python3"
  },
  "language_info": {
   "codemirror_mode": {
    "name": "ipython",
    "version": 3
   },
   "file_extension": ".py",
   "mimetype": "text/x-python",
   "name": "python",
   "nbconvert_exporter": "python",
   "pygments_lexer": "ipython3",
   "version": "3.7.6"
  },
  "toc": {
   "base_numbering": 1,
   "nav_menu": {},
   "number_sections": true,
   "sideBar": true,
   "skip_h1_title": false,
   "title_cell": "Table of Contents",
   "title_sidebar": "Contents",
   "toc_cell": false,
   "toc_position": {},
   "toc_section_display": true,
   "toc_window_display": false
  }
 },
 "nbformat": 4,
 "nbformat_minor": 4
}
