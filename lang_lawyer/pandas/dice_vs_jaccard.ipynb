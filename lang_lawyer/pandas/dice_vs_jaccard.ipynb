{
 "cells": [
  {
   "cell_type": "markdown",
   "metadata": {},
   "source": [
    "# Dice vs Jaccard\n",
    "\n",
    "https://en.wikipedia.org/wiki/S%C3%B8rensen%E2%80%93Dice_coefficient\n",
    "\n",
    "https://en.wikipedia.org/wiki/Jaccard_index"
   ]
  },
  {
   "cell_type": "code",
   "execution_count": null,
   "metadata": {
    "ExecuteTime": {
     "end_time": "2019-11-20T18:23:57.735919Z",
     "start_time": "2019-11-20T18:23:56.334669Z"
    }
   },
   "outputs": [],
   "source": [
    "import numpy as np\n",
    "import matplotlib.pyplot as plt"
   ]
  },
  {
   "cell_type": "code",
   "execution_count": null,
   "metadata": {
    "ExecuteTime": {
     "end_time": "2019-11-20T18:24:33.849403Z",
     "start_time": "2019-11-20T18:24:33.844414Z"
    }
   },
   "outputs": [],
   "source": [
    "x = np.linspace(0, 1, 250)"
   ]
  },
  {
   "cell_type": "code",
   "execution_count": null,
   "metadata": {
    "ExecuteTime": {
     "end_time": "2019-11-20T18:25:12.971040Z",
     "start_time": "2019-11-20T18:25:12.966057Z"
    }
   },
   "outputs": [],
   "source": [
    "jaccard = x / (2 - x)"
   ]
  },
  {
   "cell_type": "code",
   "execution_count": null,
   "metadata": {
    "ExecuteTime": {
     "end_time": "2019-11-20T18:37:11.466670Z",
     "start_time": "2019-11-20T18:37:11.092596Z"
    }
   },
   "outputs": [],
   "source": [
    "%matplotlib inline\n",
    "plt.rcParams['figure.figsize'] = (12, 12)\n",
    "plt.plot(x, jaccard, label='jaccard')\n",
    "plt.plot(x, x, label='y=x (dice)')\n",
    "plt.xlabel('dice')\n",
    "plt.legend(loc='upper left')\n",
    "plt.show()"
   ]
  },
  {
   "cell_type": "code",
   "execution_count": null,
   "metadata": {
    "ExecuteTime": {
     "end_time": "2019-11-20T18:37:16.937180Z",
     "start_time": "2019-11-20T18:37:16.543234Z"
    }
   },
   "outputs": [],
   "source": [
    "dice = 2 * x / (x + 1)\n",
    "plt.plot(x, dice, label='dice')\n",
    "plt.plot(x, x, label='y=x (jaccard)')\n",
    "plt.xlabel('jaccard')\n",
    "plt.legend(loc='upper left')\n",
    "plt.show()"
   ]
  },
  {
   "cell_type": "markdown",
   "metadata": {},
   "source": [
    "### Conclusions:\n",
    "\n",
    "Jaccard is a bit less forgiving.\n",
    "\n",
    "The difference is least pronounced at the extremes (0 and 1, where they converge), and greatest around the middle of both indexes."
   ]
  }
 ],
 "metadata": {
  "kernelspec": {
   "display_name": "Python 3",
   "language": "python",
   "name": "python3"
  },
  "language_info": {
   "codemirror_mode": {
    "name": "ipython",
    "version": 3
   },
   "file_extension": ".py",
   "mimetype": "text/x-python",
   "name": "python",
   "nbconvert_exporter": "python",
   "pygments_lexer": "ipython3",
   "version": "3.5.3"
  }
 },
 "nbformat": 4,
 "nbformat_minor": 2
}
