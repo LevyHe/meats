{
 "cells": [
  {
   "cell_type": "markdown",
   "metadata": {},
   "source": [
    "# Scatter plot with 'area' scaling\n",
    "\n",
    "https://stackoverflow.com/questions/14827650/pyplot-scatter-plot-marker-size\n",
    "https://stackoverflow.com/a/14860958/1338797"
   ]
  },
  {
   "cell_type": "code",
   "execution_count": null,
   "metadata": {},
   "outputs": [],
   "source": [
    "%matplotlib inline\n",
    "\n",
    "import matplotlib.pyplot as plt\n",
    "# doubling the width of markers every time (exponential)\n",
    "x = [0, 2, 4, 6, 8, 10]\n",
    "y = [0] * len(x)\n",
    "s = [10 * 4**n for n in range(len(x))]\n",
    "plt.scatter(x, y, s=s)\n",
    "plt.show()"
   ]
  },
  {
   "cell_type": "code",
   "execution_count": null,
   "metadata": {},
   "outputs": [],
   "source": [
    "# doubling the area of markers (square root of exponential)\n",
    "x = [0, 2, 4, 6, 8, 10]\n",
    "y = [0] * len(x)\n",
    "s = [10 * 2**n for n in range(len(x))]\n",
    "plt.scatter(x, y, s=s)\n",
    "plt.show()"
   ]
  },
  {
   "cell_type": "code",
   "execution_count": null,
   "metadata": {},
   "outputs": [],
   "source": [
    "# quadratic diameter\n",
    "x = [0, 2, 4, 6, 8, 10]\n",
    "y = [0] * len(x)\n",
    "s = [10 * n**4 for n in range(len(x))]\n",
    "plt.scatter(x, y, s=s)\n",
    "plt.show()"
   ]
  },
  {
   "cell_type": "code",
   "execution_count": null,
   "metadata": {},
   "outputs": [],
   "source": [
    "# linear diameter, quadratic area\n",
    "x = [0, 2, 4, 6, 8, 10]\n",
    "y = [0] * len(x)\n",
    "s = [50 * n**2 for n in range(len(x))]\n",
    "plt.scatter(x, y, s=s)\n",
    "plt.show()"
   ]
  },
  {
   "cell_type": "code",
   "execution_count": null,
   "metadata": {},
   "outputs": [],
   "source": []
  }
 ],
 "metadata": {
  "kernelspec": {
   "display_name": "Python 3",
   "language": "python",
   "name": "python3"
  },
  "language_info": {
   "codemirror_mode": {
    "name": "ipython",
    "version": 3
   },
   "file_extension": ".py",
   "mimetype": "text/x-python",
   "name": "python",
   "nbconvert_exporter": "python",
   "pygments_lexer": "ipython3",
   "version": "3.6.6"
  }
 },
 "nbformat": 4,
 "nbformat_minor": 2
}
