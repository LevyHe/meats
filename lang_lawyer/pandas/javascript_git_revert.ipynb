{
 "cells": [
  {
   "cell_type": "markdown",
   "metadata": {},
   "source": [
    "### How to revert the notebook programmatically\n",
    "\n",
    "Experiments. This seems to be too long to paste it into e.g. every notebook."
   ]
  },
  {
   "cell_type": "code",
   "execution_count": 1,
   "metadata": {
    "ExecuteTime": {
     "end_time": "2020-04-23T19:53:47.052254Z",
     "start_time": "2020-04-23T19:53:47.046687Z"
    }
   },
   "outputs": [],
   "source": [
    "# This doesn't work:\n",
    "# __file__"
   ]
  },
  {
   "cell_type": "markdown",
   "metadata": {},
   "source": [
    "Taking notebook name using JS:"
   ]
  },
  {
   "cell_type": "code",
   "execution_count": 2,
   "metadata": {
    "ExecuteTime": {
     "end_time": "2020-04-23T19:53:48.291445Z",
     "start_time": "2020-04-23T19:53:48.283184Z"
    }
   },
   "outputs": [
    {
     "data": {
      "application/javascript": [
       "var kernel = IPython.notebook.kernel;\n",
       "var thename = window.document.getElementById(\"notebook_name\").innerHTML;\n",
       "var command = \"theNotebook = \" + \"'\"+thename+\"'\";\n",
       "kernel.execute(command);\n"
      ],
      "text/plain": [
       "<IPython.core.display.Javascript object>"
      ]
     },
     "metadata": {},
     "output_type": "display_data"
    }
   ],
   "source": [
    "%%javascript\n",
    "var kernel = IPython.notebook.kernel;\n",
    "var thename = window.document.getElementById(\"notebook_name\").innerHTML;\n",
    "var command = \"theNotebook = \" + \"'\"+thename+\"'\";\n",
    "kernel.execute(command);"
   ]
  },
  {
   "cell_type": "code",
   "execution_count": 3,
   "metadata": {
    "ExecuteTime": {
     "end_time": "2020-04-23T19:53:49.585261Z",
     "start_time": "2020-04-23T19:53:49.579084Z"
    }
   },
   "outputs": [
    {
     "data": {
      "text/plain": [
       "'javascript_git_revert'"
      ]
     },
     "execution_count": 3,
     "metadata": {},
     "output_type": "execute_result"
    }
   ],
   "source": [
    "theNotebook"
   ]
  },
  {
   "cell_type": "code",
   "execution_count": 4,
   "metadata": {
    "ExecuteTime": {
     "end_time": "2020-04-23T19:53:54.193984Z",
     "start_time": "2020-04-23T19:53:54.074481Z"
    }
   },
   "outputs": [
    {
     "name": "stdout",
     "output_type": "stream",
     "text": [
      "error: pathspec 'javascript_git_revert.ipynb' did not match any file(s) known to git\r\n"
     ]
    }
   ],
   "source": [
    "!git checkout -- {theNotebook}.ipynb"
   ]
  },
  {
   "cell_type": "code",
   "execution_count": null,
   "metadata": {
    "ExecuteTime": {
     "end_time": "2020-04-23T19:54:08.354864Z",
     "start_time": "2020-04-23T19:54:08.235875Z"
    }
   },
   "outputs": [],
   "source": [
    "!git status"
   ]
  },
  {
   "cell_type": "markdown",
   "metadata": {},
   "source": [
    "### Appendix - playing with JS"
   ]
  },
  {
   "cell_type": "code",
   "execution_count": 6,
   "metadata": {
    "ExecuteTime": {
     "end_time": "2020-04-23T19:54:25.878639Z",
     "start_time": "2020-04-23T19:54:25.862718Z"
    }
   },
   "outputs": [
    {
     "data": {
      "application/javascript": [
       "// this does nothing\n",
       "console.log('hello')\n"
      ],
      "text/plain": [
       "<IPython.core.display.Javascript object>"
      ]
     },
     "metadata": {},
     "output_type": "display_data"
    }
   ],
   "source": [
    "%%javascript\n",
    "// this does nothing\n",
    "// despite: https://stackoverflow.com/questions/28080079/can-i-create-an-ipython-notebook-using-javascript-as-the-language-in-the-cells/\n",
    "console.log('hello')"
   ]
  },
  {
   "cell_type": "code",
   "execution_count": 12,
   "metadata": {
    "ExecuteTime": {
     "end_time": "2020-04-22T16:06:45.389095Z",
     "start_time": "2020-04-22T16:06:45.385605Z"
    }
   },
   "outputs": [
    {
     "data": {
      "application/javascript": [
       "// this produces output \n",
       "element.append(IPython.notebook.notebook_path);\n",
       "element.append('<br>')\n",
       "element.append(window.document.getElementById(\"notebook_name\").innerHTML)\n"
      ],
      "text/plain": [
       "<IPython.core.display.Javascript object>"
      ]
     },
     "metadata": {},
     "output_type": "display_data"
    }
   ],
   "source": [
    "%%javascript\n",
    "// this produces output \n",
    "element.append(IPython.notebook.notebook_path);\n",
    "// this appends to it\n",
    "element.append('<br>')\n",
    "element.append(window.document.getElementById(\"notebook_name\").innerHTML)"
   ]
  },
  {
   "cell_type": "code",
   "execution_count": 7,
   "metadata": {
    "ExecuteTime": {
     "end_time": "2020-04-23T19:54:57.547904Z",
     "start_time": "2020-04-23T19:54:57.541005Z"
    }
   },
   "outputs": [
    {
     "data": {
      "application/javascript": [
       "window.myvar = 12;\n"
      ],
      "text/plain": [
       "<IPython.core.display.Javascript object>"
      ]
     },
     "metadata": {},
     "output_type": "display_data"
    }
   ],
   "source": [
    "%%javascript\n",
    "window.myvar = 12;"
   ]
  },
  {
   "cell_type": "code",
   "execution_count": 8,
   "metadata": {
    "ExecuteTime": {
     "end_time": "2020-04-23T19:55:08.917103Z",
     "start_time": "2020-04-23T19:55:08.912540Z"
    }
   },
   "outputs": [
    {
     "data": {
      "application/javascript": [
       "console.log(myvar)\n"
      ],
      "text/plain": [
       "<IPython.core.display.Javascript object>"
      ]
     },
     "metadata": {},
     "output_type": "display_data"
    }
   ],
   "source": [
    "%%javascript\n",
    "console.log(myvar)"
   ]
  },
  {
   "cell_type": "code",
   "execution_count": 9,
   "metadata": {
    "ExecuteTime": {
     "end_time": "2020-04-23T19:55:20.009267Z",
     "start_time": "2020-04-23T19:55:20.000790Z"
    }
   },
   "outputs": [
    {
     "data": {
      "application/javascript": [
       "element.append(myvar)\n"
      ],
      "text/plain": [
       "<IPython.core.display.Javascript object>"
      ]
     },
     "metadata": {},
     "output_type": "display_data"
    }
   ],
   "source": [
    "%%javascript\n",
    "element.append(myvar)"
   ]
  },
  {
   "cell_type": "code",
   "execution_count": 10,
   "metadata": {
    "ExecuteTime": {
     "end_time": "2020-04-23T19:55:42.561342Z",
     "start_time": "2020-04-23T19:55:42.550845Z"
    }
   },
   "outputs": [
    {
     "data": {
      "application/javascript": [
       "let mylocal=13;\n"
      ],
      "text/plain": [
       "<IPython.core.display.Javascript object>"
      ]
     },
     "metadata": {},
     "output_type": "display_data"
    }
   ],
   "source": [
    "%%javascript\n",
    "let mylocal=13;"
   ]
  },
  {
   "cell_type": "code",
   "execution_count": 11,
   "metadata": {
    "ExecuteTime": {
     "end_time": "2020-04-23T19:55:51.918794Z",
     "start_time": "2020-04-23T19:55:51.906226Z"
    }
   },
   "outputs": [
    {
     "data": {
      "application/javascript": [
       "element.append(mylocal)\n"
      ],
      "text/plain": [
       "<IPython.core.display.Javascript object>"
      ]
     },
     "metadata": {},
     "output_type": "display_data"
    }
   ],
   "source": [
    "%%javascript\n",
    "element.append(mylocal)"
   ]
  },
  {
   "cell_type": "code",
   "execution_count": 12,
   "metadata": {
    "ExecuteTime": {
     "end_time": "2020-04-23T19:56:09.292041Z",
     "start_time": "2020-04-23T19:56:09.288863Z"
    }
   },
   "outputs": [
    {
     "data": {
      "application/javascript": [
       "let mylocal=13;\n",
       "element.append(mylocal)\n"
      ],
      "text/plain": [
       "<IPython.core.display.Javascript object>"
      ]
     },
     "metadata": {},
     "output_type": "display_data"
    }
   ],
   "source": [
    "%%javascript\n",
    "let mylocal=13;\n",
    "element.append(mylocal)"
   ]
  },
  {
   "cell_type": "code",
   "execution_count": null,
   "metadata": {},
   "outputs": [],
   "source": []
  }
 ],
 "metadata": {
  "kernelspec": {
   "display_name": "Python 3",
   "language": "python",
   "name": "python3"
  },
  "language_info": {
   "codemirror_mode": {
    "name": "ipython",
    "version": 3
   },
   "file_extension": ".py",
   "mimetype": "text/x-python",
   "name": "python",
   "nbconvert_exporter": "python",
   "pygments_lexer": "ipython3",
   "version": "3.7.6"
  }
 },
 "nbformat": 4,
 "nbformat_minor": 4
}
