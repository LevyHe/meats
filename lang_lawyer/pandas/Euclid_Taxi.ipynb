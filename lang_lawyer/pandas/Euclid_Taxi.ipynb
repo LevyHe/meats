{
 "cells": [
  {
   "cell_type": "markdown",
   "metadata": {},
   "source": [
    "# Euclid vs Taxi distance\n",
    "\n",
    "How much worse can Manhattan/Taxi get from Euclidean distance in 2D?\n",
    "\n",
    "Let's see on an example with 100 distance in one dimension, and from 0 to 100 in the other."
   ]
  },
  {
   "cell_type": "code",
   "execution_count": null,
   "metadata": {},
   "outputs": [],
   "source": [
    "import numpy as np"
   ]
  },
  {
   "cell_type": "code",
   "execution_count": null,
   "metadata": {},
   "outputs": [],
   "source": [
    "FIXED_SIDE = 100\n",
    "# try changing this e.g. to 1000:\n",
    "MAX_X = 100\n",
    "\n",
    "x = np.linspace(0, MAX_X, 101)\n",
    "\n",
    "y_t = FIXED_SIDE + x\n",
    "y_e = np.sqrt(FIXED_SIDE ** 2 + x*x)"
   ]
  },
  {
   "cell_type": "code",
   "execution_count": null,
   "metadata": {},
   "outputs": [],
   "source": [
    "# Look ma, no % sign:\n",
    "from IPython import get_ipython\n",
    "get_ipython().magic('matplotlib inline')\n",
    "\n",
    "import matplotlib.pyplot as plt\n",
    "\n",
    "plt.plot(x, y_t / y_e, label='taxi / euclidean')\n",
    "plt.legend()\n",
    "plt.show()"
   ]
  },
  {
   "cell_type": "code",
   "execution_count": null,
   "metadata": {},
   "outputs": [],
   "source": [
    "plt.cla()\n",
    "plt.plot(x, y_t, label='taxi')\n",
    "plt.plot(x, y_e, label='euclid')\n",
    "plt.legend()\n",
    "plt.show()"
   ]
  }
 ],
 "metadata": {
  "kernelspec": {
   "display_name": "Python 3",
   "language": "python",
   "name": "python3"
  },
  "language_info": {
   "codemirror_mode": {
    "name": "ipython",
    "version": 3
   },
   "file_extension": ".py",
   "mimetype": "text/x-python",
   "name": "python",
   "nbconvert_exporter": "python",
   "pygments_lexer": "ipython3",
   "version": "3.6.8"
  }
 },
 "nbformat": 4,
 "nbformat_minor": 2
}
