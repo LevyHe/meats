{
 "cells": [
  {
   "cell_type": "markdown",
   "metadata": {},
   "source": [
    "# Creating POS taggers\n",
    "\n",
    "Source: https://streamhacker.com/2008/11/03/part-of-speech-tagging-with-nltk-part-1/ \n",
    "\n",
    "Make sure `nltk` is installed. If it is already (e.g. Anaconda), get the corpora:\n",
    "`>>> nltk.download()`"
   ]
  },
  {
   "cell_type": "code",
   "execution_count": 1,
   "metadata": {},
   "outputs": [
    {
     "name": "stdout",
     "output_type": "stream",
     "text": [
      "Wall time: 34.3 s\n"
     ]
    }
   ],
   "source": [
    "%%time\n",
    "import nltk.corpus, nltk.tag, itertools\n",
    "brown_review_sents = nltk.corpus.brown.tagged_sents(categories=['reviews'])\n",
    "brown_lore_sents = nltk.corpus.brown.tagged_sents(categories=['lore'])\n",
    "brown_romance_sents = nltk.corpus.brown.tagged_sents(categories=['romance'])\n",
    " \n",
    "brown_train = list(itertools.chain(brown_review_sents[:1000], brown_lore_sents[:1000], brown_romance_sents[:1000]))\n",
    "brown_test = list(itertools.chain(brown_review_sents[1000:2000], brown_lore_sents[1000:2000], brown_romance_sents[1000:2000]))\n",
    " \n",
    "conll_sents = nltk.corpus.conll2000.tagged_sents()\n",
    "conll_train = list(conll_sents[:4000])\n",
    "conll_test = list(conll_sents[4000:8000])\n",
    " \n",
    "treebank_sents = nltk.corpus.treebank.tagged_sents()\n",
    "treebank_train = list(treebank_sents[:1500])\n",
    "treebank_test = list(treebank_sents[1500:3000])"
   ]
  },
  {
   "cell_type": "code",
   "execution_count": 2,
   "metadata": {},
   "outputs": [],
   "source": [
    "# this part was missing in the blog post\n",
    "# maybe it's supposed to be run on each corpus separately?\n",
    "train_sents = treebank_train + conll_train + brown_train"
   ]
  },
  {
   "cell_type": "code",
   "execution_count": 3,
   "metadata": {},
   "outputs": [
    {
     "name": "stdout",
     "output_type": "stream",
     "text": [
      "Wall time: 51.3 s\n"
     ]
    }
   ],
   "source": [
    "%%time\n",
    "def backoff_tagger(tagged_sents, tagger_classes, backoff=None):\n",
    "    if not backoff:\n",
    "        backoff = tagger_classes[0](tagged_sents)\n",
    "        del tagger_classes[0]\n",
    " \n",
    "    for cls in tagger_classes:\n",
    "        tagger = cls(tagged_sents, backoff=backoff)\n",
    "        backoff = tagger\n",
    " \n",
    "    return backoff\n",
    " \n",
    "ubt_tagger = backoff_tagger(train_sents, [nltk.tag.UnigramTagger, nltk.tag.BigramTagger, nltk.tag.TrigramTagger])\n",
    "utb_tagger = backoff_tagger(train_sents, [nltk.tag.UnigramTagger, nltk.tag.TrigramTagger, nltk.tag.BigramTagger])\n",
    "but_tagger = backoff_tagger(train_sents, [nltk.tag.BigramTagger, nltk.tag.UnigramTagger, nltk.tag.TrigramTagger])\n",
    "btu_tagger = backoff_tagger(train_sents, [nltk.tag.BigramTagger, nltk.tag.TrigramTagger, nltk.tag.UnigramTagger])\n",
    "tub_tagger = backoff_tagger(train_sents, [nltk.tag.TrigramTagger, nltk.tag.UnigramTagger, nltk.tag.BigramTagger])\n",
    "tbu_tagger = backoff_tagger(train_sents, [nltk.tag.TrigramTagger, nltk.tag.BigramTagger, nltk.tag.UnigramTagger])\n"
   ]
  },
  {
   "cell_type": "code",
   "execution_count": 4,
   "metadata": {},
   "outputs": [
    {
     "data": {
      "text/plain": [
       "0.6303110707677269"
      ]
     },
     "execution_count": 4,
     "metadata": {},
     "output_type": "execute_result"
    }
   ],
   "source": [
    "utb_tagger.evaluate(brown_test)"
   ]
  },
  {
   "cell_type": "code",
   "execution_count": 5,
   "metadata": {},
   "outputs": [],
   "source": [
    "all_test = treebank_test + brown_test + conll_test"
   ]
  },
  {
   "cell_type": "code",
   "execution_count": 6,
   "metadata": {},
   "outputs": [
    {
     "data": {
      "text/plain": [
       "['btu_tagger',\n",
       " 'but_tagger',\n",
       " 'tbu_tagger',\n",
       " 'tub_tagger',\n",
       " 'ubt_tagger',\n",
       " 'utb_tagger']"
      ]
     },
     "execution_count": 6,
     "metadata": {},
     "output_type": "execute_result"
    }
   ],
   "source": [
    "taggers = [name for name in dir() if name.endswith('_tagger') and len(name) == 10]\n",
    "taggers"
   ]
  },
  {
   "cell_type": "code",
   "execution_count": 7,
   "metadata": {},
   "outputs": [
    {
     "name": "stdout",
     "output_type": "stream",
     "text": [
      "Wall time: 30.2 s\n"
     ]
    }
   ],
   "source": [
    "%%time\n",
    "import pandas as pd\n",
    "\n",
    "v = vars()\n",
    "tests = [test_name for test_name in dir() if test_name.endswith('_test')]\n",
    "\n",
    "df = pd.DataFrame.from_dict({\n",
    "    name: {test_name: v[name].evaluate(v[test_name]) for test_name in tests}\n",
    "    for name in taggers # dir() if name.endswith('_tagger')\n",
    "})\n",
    "\n",
    "df"
   ]
  },
  {
   "cell_type": "code",
   "execution_count": 8,
   "metadata": {},
   "outputs": [
    {
     "data": {
      "text/plain": [
       "tbu_tagger    0.380357\n",
       "tub_tagger    0.385595\n",
       "btu_tagger    0.546765\n",
       "but_tagger    0.573388\n",
       "utb_tagger    0.784914\n",
       "ubt_tagger    0.789297\n",
       "dtype: float64"
      ]
     },
     "execution_count": 8,
     "metadata": {},
     "output_type": "execute_result"
    }
   ],
   "source": [
    "df.iloc[1:].sum().div(3).sort_values()"
   ]
  },
  {
   "cell_type": "code",
   "execution_count": 9,
   "metadata": {},
   "outputs": [
    {
     "data": {
      "text/plain": [
       "['all_test', 'brown_test', 'conll_test', 'treebank_test']"
      ]
     },
     "execution_count": 9,
     "metadata": {},
     "output_type": "execute_result"
    }
   ],
   "source": [
    "tests"
   ]
  },
  {
   "cell_type": "code",
   "execution_count": 13,
   "metadata": {},
   "outputs": [
    {
     "data": {
      "text/plain": [
       "[('To', 'TO'),\n",
       " ('begin', 'VB'),\n",
       " ('with', 'IN'),\n",
       " (',', ','),\n",
       " ('Scapin', 'NP'),\n",
       " ('is', 'BEZ'),\n",
       " ('a', 'AT'),\n",
       " ('trickster', 'NN'),\n",
       " ('in', 'IN'),\n",
       " ('the', 'AT'),\n",
       " ('old', 'JJ'),\n",
       " ('tradition', 'NN'),\n",
       " ('of', 'IN'),\n",
       " ('the', 'AT'),\n",
       " ('clever', 'JJ'),\n",
       " ('servant', 'NN'),\n",
       " ('who', 'WPS'),\n",
       " ('plots', 'VBZ'),\n",
       " ('the', 'AT'),\n",
       " ('strategy', 'NN'),\n",
       " ('of', 'IN'),\n",
       " ('courtship', 'NN'),\n",
       " ('for', 'IN'),\n",
       " ('his', 'PP$'),\n",
       " ('master', 'NN'),\n",
       " ('.', '.')]"
      ]
     },
     "execution_count": 13,
     "metadata": {},
     "output_type": "execute_result"
    }
   ],
   "source": [
    "# What's in there by the way?\n",
    "brown_test[0]"
   ]
  },
  {
   "cell_type": "code",
   "execution_count": 11,
   "metadata": {},
   "outputs": [
    {
     "data": {
      "text/plain": [
       "[('Mary', 'NNP'),\n",
       " ('sees', 'VBZ'),\n",
       " ('a', 'DT'),\n",
       " ('little', 'JJ'),\n",
       " ('joy', 'NN'),\n",
       " ('passing', 'VBG'),\n",
       " ('.', '.')]"
      ]
     },
     "execution_count": 11,
     "metadata": {},
     "output_type": "execute_result"
    }
   ],
   "source": [
    "utb_tagger.tag(['Mary', 'sees', 'a', 'little', 'joy', 'passing', '.'])"
   ]
  },
  {
   "cell_type": "code",
   "execution_count": 12,
   "metadata": {},
   "outputs": [
    {
     "data": {
      "text/plain": [
       "[('Time', 'NN'),\n",
       " ('to', 'TO'),\n",
       " ('pick', 'VB'),\n",
       " ('up', 'RP'),\n",
       " ('the', 'AT'),\n",
       " ('slack', 'NN'),\n",
       " ('.', '.')]"
      ]
     },
     "execution_count": 12,
     "metadata": {},
     "output_type": "execute_result"
    }
   ],
   "source": [
    "utb_tagger.tag('Time to pick up the slack .'.split())"
   ]
  },
  {
   "cell_type": "code",
   "execution_count": null,
   "metadata": {},
   "outputs": [],
   "source": []
  }
 ],
 "metadata": {
  "kernelspec": {
   "display_name": "Python 3",
   "language": "python",
   "name": "python3"
  },
  "language_info": {
   "codemirror_mode": {
    "name": "ipython",
    "version": 3
   },
   "file_extension": ".py",
   "mimetype": "text/x-python",
   "name": "python",
   "nbconvert_exporter": "python",
   "pygments_lexer": "ipython3",
   "version": "3.6.8"
  }
 },
 "nbformat": 4,
 "nbformat_minor": 2
}
