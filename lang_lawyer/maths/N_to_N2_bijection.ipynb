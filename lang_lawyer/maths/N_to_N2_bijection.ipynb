{
 "cells": [
  {
   "cell_type": "markdown",
   "metadata": {},
   "source": [
    "We could think of many ways for numbering the natural numbers, or even $Z$, integers.\n",
    "But let's see how a neat closed-form function taken from Marecki, \"Grafy i rekurencje\" p. 64:\n",
    "\n",
    "$\\propto_2(x, x) = \\frac{(x+y)(x+y+1)}{2} + x$\n",
    "\n",
    "BTW, the symbol $\\propto$ means \"proportionality\"... ($\\LaTeX$ - `\\propto`)"
   ]
  },
  {
   "cell_type": "code",
   "execution_count": 3,
   "metadata": {
    "ExecuteTime": {
     "end_time": "2020-05-03T22:08:02.282941Z",
     "start_time": "2020-05-03T22:08:02.278311Z"
    }
   },
   "outputs": [
    {
     "data": {
      "text/plain": [
       "array([[  0,   1,   3,   6,  10,  15,  21,  28,  36,  45],\n",
       "       [  2,   4,   7,  11,  16,  22,  29,  37,  46,  56],\n",
       "       [  5,   8,  12,  17,  23,  30,  38,  47,  57,  68],\n",
       "       [  9,  13,  18,  24,  31,  39,  48,  58,  69,  81],\n",
       "       [ 14,  19,  25,  32,  40,  49,  59,  70,  82,  95],\n",
       "       [ 20,  26,  33,  41,  50,  60,  71,  83,  96, 110],\n",
       "       [ 27,  34,  42,  51,  61,  72,  84,  97, 111, 126],\n",
       "       [ 35,  43,  52,  62,  73,  85,  98, 112, 127, 143],\n",
       "       [ 44,  53,  63,  74,  86,  99, 113, 128, 144, 161],\n",
       "       [ 54,  64,  75,  87, 100, 114, 129, 145, 162, 180]])"
      ]
     },
     "execution_count": 3,
     "metadata": {},
     "output_type": "execute_result"
    }
   ],
   "source": [
    "import numpy as np\n",
    "x, y = np.mgrid[:10, :10]\n",
    "\n",
    "(x+y)*(x+y+1) // 2 + x"
   ]
  },
  {
   "cell_type": "markdown",
   "metadata": {},
   "source": [
    "It's so close to symmetry, that it's easy to flip it and go first down, then right-up:"
   ]
  },
  {
   "cell_type": "code",
   "execution_count": 5,
   "metadata": {
    "ExecuteTime": {
     "end_time": "2020-05-03T22:11:54.202010Z",
     "start_time": "2020-05-03T22:11:54.198349Z"
    }
   },
   "outputs": [
    {
     "data": {
      "text/plain": [
       "array([[  0,   2,   5,   9,  14,  20,  27,  35,  44,  54],\n",
       "       [  1,   4,   8,  13,  19,  26,  34,  43,  53,  64],\n",
       "       [  3,   7,  12,  18,  25,  33,  42,  52,  63,  75],\n",
       "       [  6,  11,  17,  24,  32,  41,  51,  62,  74,  87],\n",
       "       [ 10,  16,  23,  31,  40,  50,  61,  73,  86, 100],\n",
       "       [ 15,  22,  30,  39,  49,  60,  72,  85,  99, 114],\n",
       "       [ 21,  29,  38,  48,  59,  71,  84,  98, 113, 129],\n",
       "       [ 28,  37,  47,  58,  70,  83,  97, 112, 128, 145],\n",
       "       [ 36,  46,  57,  69,  82,  96, 111, 127, 144, 162],\n",
       "       [ 45,  56,  68,  81,  95, 110, 126, 143, 161, 180]])"
      ]
     },
     "execution_count": 5,
     "metadata": {},
     "output_type": "execute_result"
    }
   ],
   "source": [
    "(x+y)*(x+y+1) // 2 + y"
   ]
  },
  {
   "cell_type": "markdown",
   "metadata": {},
   "source": [
    "Why does this even work? Well, the first term is equal to a triangular number $T_{x+y}$.\n",
    "This happens to be the number of elements above the diagonal $x+y$. The free term then\n",
    "determines the position within the diagonal, if it's $x$ then we go the direction it increases:"
   ]
  },
  {
   "cell_type": "code",
   "execution_count": 7,
   "metadata": {
    "ExecuteTime": {
     "end_time": "2020-05-03T22:14:52.153788Z",
     "start_time": "2020-05-03T22:14:52.150248Z"
    }
   },
   "outputs": [
    {
     "data": {
      "text/plain": [
       "array([[0, 0, 0, 0, 0, 0, 0, 0, 0, 0],\n",
       "       [1, 1, 1, 1, 1, 1, 1, 1, 1, 1],\n",
       "       [2, 2, 2, 2, 2, 2, 2, 2, 2, 2]])"
      ]
     },
     "execution_count": 7,
     "metadata": {},
     "output_type": "execute_result"
    }
   ],
   "source": [
    "x[:3]"
   ]
  },
  {
   "cell_type": "markdown",
   "metadata": {},
   "source": [
    "i.e. down, and to keep $x+y$ constant, y has to decrease:"
   ]
  },
  {
   "cell_type": "code",
   "execution_count": 8,
   "metadata": {
    "ExecuteTime": {
     "end_time": "2020-05-03T22:16:26.793695Z",
     "start_time": "2020-05-03T22:16:26.790116Z"
    }
   },
   "outputs": [
    {
     "data": {
      "text/plain": [
       "array([[0, 1, 2, 3, 4, 5, 6, 7, 8, 9],\n",
       "       [0, 1, 2, 3, 4, 5, 6, 7, 8, 9],\n",
       "       [0, 1, 2, 3, 4, 5, 6, 7, 8, 9]])"
      ]
     },
     "execution_count": 8,
     "metadata": {},
     "output_type": "execute_result"
    }
   ],
   "source": [
    "y[:3]"
   ]
  },
  {
   "cell_type": "markdown",
   "metadata": {},
   "source": [
    "Which is to the left...\n",
    "\n",
    "Wait, shouldn't I have written `y, x = np.mgrid[:10, :10]` at the beginning instead?"
   ]
  },
  {
   "cell_type": "markdown",
   "metadata": {},
   "source": [
    "### What to do next?\n",
    "\n",
    "Well, it would be nice to find the inverse function, which works nice (even if not closed form, but with some floors of square roots etc.)\n",
    "\n",
    "I'd introduce the term _triangular remainder_ $tr_n$, where $n = T_x + tr_n$, and $T_x$ is the largest triangular number $\\le n$. And it happens to be the \"free term\", the value of one of the coordinates."
   ]
  },
  {
   "cell_type": "code",
   "execution_count": null,
   "metadata": {},
   "outputs": [],
   "source": []
  }
 ],
 "metadata": {
  "kernelspec": {
   "display_name": "Python 3",
   "language": "python",
   "name": "python3"
  },
  "language_info": {
   "codemirror_mode": {
    "name": "ipython",
    "version": 3
   },
   "file_extension": ".py",
   "mimetype": "text/x-python",
   "name": "python",
   "nbconvert_exporter": "python",
   "pygments_lexer": "ipython3",
   "version": "3.7.6"
  }
 },
 "nbformat": 4,
 "nbformat_minor": 4
}
