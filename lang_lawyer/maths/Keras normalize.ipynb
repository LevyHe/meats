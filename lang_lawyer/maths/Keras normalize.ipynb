{
 "cells": [
  {
   "cell_type": "markdown",
   "metadata": {},
   "source": [
    "https://stackoverflow.com/questions/60003673/restrict-the-sum-of-outputs-in-a-neural-network-regression-keras/\n",
    "\n",
    "BTW, using random traning and validation data ensures adherence to the SISO principle."
   ]
  },
  {
   "cell_type": "code",
   "execution_count": 1,
   "metadata": {},
   "outputs": [],
   "source": [
    "from tensorflow.kerasras.layers import *"
   ]
  },
  {
   "cell_type": "code",
   "execution_count": 7,
   "metadata": {},
   "outputs": [],
   "source": [
    "from tensorflow.keras.models import Model\n",
    "from tensorflow.keras.callbacks import EarlyStopping\n",
    "from tensorflow.keras.optimizers import Adam"
   ]
  },
  {
   "cell_type": "code",
   "execution_count": 9,
   "metadata": {},
   "outputs": [],
   "source": [
    "import numpy as np"
   ]
  },
  {
   "cell_type": "code",
   "execution_count": 3,
   "metadata": {},
   "outputs": [],
   "source": [
    "input_size = 10\n",
    "output_size = 5"
   ]
  },
  {
   "cell_type": "code",
   "execution_count": 10,
   "metadata": {},
   "outputs": [],
   "source": [
    "X = np.random.random((100, input_size))\n",
    "Y = np.random.random((100, output_size))\n",
    "X_t, Y_t = np.random.random((20, input_size)), np.random.random((20, output_size))"
   ]
  },
  {
   "cell_type": "code",
   "execution_count": 23,
   "metadata": {},
   "outputs": [],
   "source": [
    "from tensorflow.keras import backend as K"
   ]
  },
  {
   "cell_type": "code",
   "execution_count": 24,
   "metadata": {},
   "outputs": [
    {
     "name": "stdout",
     "output_type": "stream",
     "text": [
      "Train on 100 samples, validate on 20 samples\n",
      "Epoch 1/100\n",
      "100/100 [==============================] - 2s 16ms/sample - loss: 0.5010 - val_loss: 0.5267\n",
      "Epoch 2/100\n",
      "100/100 [==============================] - 0s 543us/sample - loss: 0.5011 - val_loss: 0.5267\n",
      "Epoch 3/100\n",
      "100/100 [==============================] - 0s 508us/sample - loss: 0.5010 - val_loss: 0.5267\n",
      "Epoch 4/100\n",
      "100/100 [==============================] - 0s 543us/sample - loss: 0.5012 - val_loss: 0.5267\n",
      "Epoch 5/100\n",
      "100/100 [==============================] - 0s 514us/sample - loss: 0.5009 - val_loss: 0.5268\n",
      "Epoch 6/100\n",
      "100/100 [==============================] - 0s 525us/sample - loss: 0.5008 - val_loss: 0.5268\n",
      "Epoch 7/100\n",
      "100/100 [==============================] - 0s 547us/sample - loss: 0.5014 - val_loss: 0.5268\n",
      "Epoch 8/100\n",
      "100/100 [==============================] - 0s 481us/sample - loss: 0.5013 - val_loss: 0.5269\n",
      "Epoch 9/100\n",
      "100/100 [==============================] - 0s 550us/sample - loss: 0.5014 - val_loss: 0.5269\n",
      "Epoch 10/100\n",
      "100/100 [==============================] - 0s 576us/sample - loss: 0.5008 - val_loss: 0.5270\n",
      "Epoch 11/100\n",
      "100/100 [==============================] - 0s 499us/sample - loss: 0.5012 - val_loss: 0.5270\n",
      "Epoch 00011: early stopping\n"
     ]
    },
    {
     "data": {
      "text/plain": [
       "<tensorflow.python.keras.callbacks.History at 0x1470dd13c08>"
      ]
     },
     "execution_count": 24,
     "metadata": {},
     "output_type": "execute_result"
    }
   ],
   "source": [
    "input_x = Input(shape=(input_size,))\n",
    "output = Dense(512, activation=PReLU())(input_x)\n",
    "output = Dropout(0.5)(output)\n",
    "output = Dense(512, activation=PReLU())(output)\n",
    "output = Dropout(0.5)(output)\n",
    "output = Dense(16, activation=PReLU())(output)\n",
    "output = Dropout(0.3)(output)\n",
    "outputs = Dense(output_size, activation='relu')(output)\n",
    "outputs = Lambda(lambda x: x / K.sum(x))(outputs)\n",
    "\n",
    "nn = Model(inputs=input_x, outputs=outputs)\n",
    "es = EarlyStopping(monitor='val_loss',min_delta=0,patience=10,verbose=1, mode='auto')\n",
    "opt=Adam(lr=0.001, decay=1-0.995)\n",
    "nn.compile(loss='mean_absolute_error', optimizer=opt)\n",
    "history = nn.fit(X, Y, validation_data = (X_t, Y_t), epochs=100, verbose=1, callbacks=[es])\n",
    "history"
   ]
  },
  {
   "cell_type": "code",
   "execution_count": 25,
   "metadata": {},
   "outputs": [],
   "source": [
    "d = nn.predict(np.random.random((1, input_size)))"
   ]
  },
  {
   "cell_type": "code",
   "execution_count": 26,
   "metadata": {},
   "outputs": [
    {
     "data": {
      "text/plain": [
       "array([[0.17374235, 0.4271169 , 0.39914078, 0.        , 0.        ]],\n",
       "      dtype=float32)"
      ]
     },
     "execution_count": 26,
     "metadata": {},
     "output_type": "execute_result"
    }
   ],
   "source": [
    "d"
   ]
  },
  {
   "cell_type": "code",
   "execution_count": 27,
   "metadata": {},
   "outputs": [
    {
     "data": {
      "text/plain": [
       "1.0"
      ]
     },
     "execution_count": 27,
     "metadata": {},
     "output_type": "execute_result"
    }
   ],
   "source": [
    "d.sum()"
   ]
  },
  {
   "cell_type": "code",
   "execution_count": 19,
   "metadata": {},
   "outputs": [],
   "source": [
    "from scipy.special import softmax"
   ]
  },
  {
   "cell_type": "code",
   "execution_count": 20,
   "metadata": {},
   "outputs": [
    {
     "data": {
      "text/plain": [
       "array([0.0320586 , 0.08714432, 0.23688282, 0.64391426])"
      ]
     },
     "execution_count": 20,
     "metadata": {},
     "output_type": "execute_result"
    }
   ],
   "source": [
    "softmax([1, 2, 3, 4])"
   ]
  },
  {
   "cell_type": "code",
   "execution_count": 21,
   "metadata": {},
   "outputs": [
    {
     "data": {
      "text/plain": [
       "array([0.32058603, 0.87144319, 2.36882818, 6.4391426 ])"
      ]
     },
     "execution_count": 21,
     "metadata": {},
     "output_type": "execute_result"
    }
   ],
   "source": [
    "10 * softmax([1, 2, 3, 4])"
   ]
  },
  {
   "cell_type": "code",
   "execution_count": null,
   "metadata": {},
   "outputs": [],
   "source": []
  }
 ],
 "metadata": {
  "kernelspec": {
   "display_name": "Python 3",
   "language": "python",
   "name": "python3"
  },
  "language_info": {
   "codemirror_mode": {
    "name": "ipython",
    "version": 3
   },
   "file_extension": ".py",
   "mimetype": "text/x-python",
   "name": "python",
   "nbconvert_exporter": "python",
   "pygments_lexer": "ipython3",
   "version": "3.7.5"
  }
 },
 "nbformat": 4,
 "nbformat_minor": 2
}
