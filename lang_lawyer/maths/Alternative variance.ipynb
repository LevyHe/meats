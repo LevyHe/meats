{
 "cells": [
  {
   "cell_type": "markdown",
   "metadata": {},
   "source": [
    "# Two formulas for standard deviation\n",
    "\n",
    "Ivan Valiela in \"Doing Science\" points to two different ways of computing the standard deviation\n",
    "as a measure of spread. So, now we have computers and spreadsheets, so we go with:\n",
    "\n",
    "$ s = \\sqrt{\\frac{\\sum\\limits_{i=1}^{n} (x_i - \\overline{x}) ^ 2}{n-1}} $\n",
    "\n",
    "If we need to add 1 element, we just start from the beginning - updating the $\\overline{x}$, then the average square (variance) and dividing it by the increased $(n-1)$.\n",
    "\n",
    "However, before these happy times we didn't want to recalculate this.\n",
    "\n",
    "So, there was another formula:\n",
    "\n",
    "$ s = \\sqrt{\\frac{\\sum\\limits_{i=1}^{n} (x_i^2) - \\frac{(\\sum\\limits_{i=1}^{n} x_i)^2}{n}}{n-1}} $\n",
    "\n",
    "(more or less, it's being described in natural language, and via a textual formula with ambiguous \"scopes\" of operations)\n",
    "\n",
    "It should feature \"sum of (data)^2 - \\[(sum of data)^2 / number of data\\].\n",
    "\n",
    "So, we only need to track the sum of samples and sum of squared samples, and whenever we need the current $s$, we'd only do:\n",
    "\n",
    "* one squaring\n",
    "* two divisions\n",
    "* one square root\n",
    "\n",
    "I'd like to test this formula (and maybe debug it's definition) on a few sample populations."
   ]
  },
  {
   "cell_type": "code",
   "execution_count": 1,
   "metadata": {
    "ExecuteTime": {
     "end_time": "2020-03-31T13:01:16.051938Z",
     "start_time": "2020-03-31T13:01:15.986849Z"
    }
   },
   "outputs": [],
   "source": [
    "import numpy as np\n",
    "\n",
    "def stdev_simple(data, ddof=0):\n",
    "    data = np.asarray(data)\n",
    "    return np.sqrt(\n",
    "        ((data ** 2).sum() - data.sum() ** 2 / len(data)) / (len(data) - ddof)\n",
    "    )\n"
   ]
  },
  {
   "cell_type": "code",
   "execution_count": 2,
   "metadata": {
    "ExecuteTime": {
     "end_time": "2020-03-31T13:01:16.062422Z",
     "start_time": "2020-03-31T13:01:16.053329Z"
    }
   },
   "outputs": [
    {
     "data": {
      "text/plain": [
       "(1.4142135623730951, 1.4142135623730951)"
      ]
     },
     "execution_count": 2,
     "metadata": {},
     "output_type": "execute_result"
    }
   ],
   "source": [
    "x = [1, 2, 3, 4, 5]\n",
    "np.std(x), stdev_simple(x)"
   ]
  },
  {
   "cell_type": "code",
   "execution_count": 3,
   "metadata": {
    "ExecuteTime": {
     "end_time": "2020-03-31T13:01:16.077726Z",
     "start_time": "2020-03-31T13:01:16.063992Z"
    }
   },
   "outputs": [
    {
     "data": {
      "text/plain": [
       "(2.854781077420824, 2.854781077420824)"
      ]
     },
     "execution_count": 3,
     "metadata": {},
     "output_type": "execute_result"
    }
   ],
   "source": [
    "x = np.random.randint(10, size=(200,))\n",
    "np.std(x), stdev_simple(x)"
   ]
  },
  {
   "cell_type": "code",
   "execution_count": 4,
   "metadata": {
    "ExecuteTime": {
     "end_time": "2020-03-31T13:01:16.086862Z",
     "start_time": "2020-03-31T13:01:16.079139Z"
    }
   },
   "outputs": [
    {
     "data": {
      "text/plain": [
       "(2.8619449056919457, 2.8619449056919457)"
      ]
     },
     "execution_count": 4,
     "metadata": {},
     "output_type": "execute_result"
    }
   ],
   "source": [
    "np.std(x, ddof=1), stdev_simple(x, ddof=1)"
   ]
  },
  {
   "cell_type": "markdown",
   "metadata": {},
   "source": [
    "## Moral of the story\n",
    "\n",
    "This is not an approximation or a heuristic - it's just a different form.\n",
    "It is indeed computation friendly by only keeping 2 state variables, which can\n",
    "be updated in $O(1)$ after adding a single sample."
   ]
  },
  {
   "cell_type": "markdown",
   "metadata": {},
   "source": [
    "# Derivation of the formula\n",
    "\n",
    "I've had some trouble transforming the definition into the formula \"without mean under the sum\", but it is quite easy to find on the Internet. There are event \n",
    "\n",
    "Some call it shortcut formula for variance: \n",
    "\n",
    "https://www.saddleback.edu/faculty/pquigley/math10/shortcut.pdf\n",
    "\n",
    "or alternate variance formulas:\n",
    "\n",
    "https://www.khanacademy.org/math/statistics-probability/summarizing-quantitative-data/variance-standard-deviation-population/v/statistics-alternate-variance-formulas \n",
    "\n",
    "(for population, with ddof=0, we get: σ² = ( (Σ x²) / N ) - μ²) \n",
    "\n",
    "shortcut variance formula: https://www.youtube.com/watch?v=9_NFIpsFkoo\n",
    "\n",
    "But, instead of mouse-screen-hanwriting let's to it in proper LaTeX:\n",
    "\n",
    "$ \\sigma^2 = \\frac{\\sum\\limits_{i=1}^{n}(x_i - \\overline{x})^2}{n - 1} $\n",
    "\n",
    "expand the square of the difference:\n",
    "\n",
    "$ \\sigma^2 = \\frac{\\sum\\limits_{i=1}^{n}(x_i^2 \\; - \\; 2 \\overline{x}x_i \\; + \\; \\overline{x}^2)}{n - 1} $\n",
    "\n",
    "split the sums:\n",
    "\n",
    "$ \\sigma^2 = \\frac{\n",
    "  \\sum\\limits_{i=1}^{n}(x_i^2) \\; \n",
    "  - \\; 2 \\overline{x}\\sum\\limits_{i=1}^{n} x_i \\; \n",
    "  + \\; \\overline{x}^2\\sum\\limits_{i=1}^{n} 1\n",
    "}\n",
    "{n - 1} $\n",
    "\n",
    "now it's high time to substitute $\\overline{x}$ with $\\frac{\\sum\\limits_{i=1}^{n} x_i}{n}$,\n",
    "as well as $\\sum\\limits_{i=1}^{n}1$ with $n$.\n",
    "\n",
    "$ \\sigma^2 = \\frac{\n",
    "  \\sum\\limits_{i=1}^{n}(x_i^2) \\; \n",
    "  - \\; 2 \\frac{\\sum\\limits_{i=1}^{n} x_i}{n} \\cdot \\sum\\limits_{i=1}^{n} x_i \\; \n",
    "  + \\; (\\frac{\\sum\\limits_{i=1}^{n} x_i}{n})^2 \\cdot n\n",
    "}\n",
    "{n - 1} $"
   ]
  },
  {
   "cell_type": "markdown",
   "metadata": {},
   "source": [
    "let's substitute $ S_x = \\sum\\limits_{i=1}^{n} x_i $ for clarity:\n",
    "\n",
    "$ \\sigma^2 = \\frac{\n",
    "  \\sum\\limits_{i=1}^{n}(x_i^2) \\; \n",
    "  - \\; 2 \\frac{S_x}{n} \\cdot S_x \\; \n",
    "  + \\; (\\frac{S_x}{n})^2 \\cdot n\n",
    "}{n - 1} $\n",
    "\n",
    "the two terms acutally both have $ \\frac{S_x^2}{n} $\n",
    "\n",
    "$ \\sigma^2 = \\frac{\n",
    "  \\sum\\limits_{i=1}^{n}(x_i^2) \\; + \\; \\frac{S_x^2}{n} (-2 + 1)\n",
    "}{n - 1} $\n",
    "\n",
    "so finally:\n",
    "\n",
    "$ \\sigma^2 = \\frac{\\sum\\limits_{i=1}^{n}(x_i^2) \\; - \\; \\frac{S_x^2}{n}}{n - 1}$\n",
    "\n",
    "expanding $S_x$ back to $\\sum\\limits_{i=1}^{n} x_i$:\n",
    "\n",
    "$ \\sigma^2 = \\frac{\\sum\\limits_{i=1}^{n}(x_i^2) \\; - \\; \\frac{(\\sum\\limits_{i=1}^{n} x_i)^2}{n}}{n - 1}$\n"
   ]
  },
  {
   "cell_type": "markdown",
   "metadata": {},
   "source": [
    "## For population variance\n",
    "\n",
    "$\\sigma_p^2 = \\frac{\\sum\\limits_{i=1}^{n}(x_i^2) \\; - \\; \\frac{(\\sum\\limits_{i=1}^{n} x_i)^2}{n}}{n}$\n",
    "\n",
    "We can do the division:\n",
    "\n",
    "$\\sigma_p^2 = \\sum\\limits_{i=1}^{n}(x_i^2) / n \\; - \\; \\frac{(\\sum\\limits_{i=1}^{n} x_i)^2}{n^2}$\n",
    "\n",
    "which is:\n",
    "\n",
    "$\\sigma_p^2 = \\frac{\\sum\\limits_{i=1}^{n}(x_i^2)}{n} \\; - \\; (\\frac{\\sum\\limits_{i=1}^{n} x_i}{n})^2$\n",
    "\n",
    "and $\\frac{\\sum\\limits_{i=1}^{n} x_i}{n} = \\overline{x}$, so:\n",
    "\n",
    "$\\sigma_p^2 = \\frac{\\sum\\limits_{i=1}^{n}(x_i^2)}{n} \\; - \\; \\overline{x}^2$\n",
    "\n",
    "Which produces a nice punchline \"average of the squares minus square of the average\"."
   ]
  },
  {
   "cell_type": "markdown",
   "metadata": {},
   "source": [
    "# Sample covariance\n",
    "\n",
    "The formula is actually very similar to the variance, and if $ x = y $ then $ \\sigma_{xy} = \\sigma_x^2 $\n",
    "\n",
    "$ \\sigma_{xy} = \\frac{\\sum\\limits_{i=1}^n(x_i - \\overline{x})(y_i - \\overline{y}) }{n-1} $\n",
    "\n",
    "This can be expanded to:\n",
    "\n",
    "$ \\sigma_{xy} = \\frac{\\sum\\limits_{i=1}^n(x_i\\cdot y_i - \\overline{x}y_i - x_i\\overline{y} + \\overline{x}\\overline{y}) }{n-1} $\n"
   ]
  },
  {
   "cell_type": "markdown",
   "metadata": {},
   "source": [
    "When we split the sums, we get 4 sums:\n",
    "\n",
    "$ \\sigma_{xy} = \\frac{\n",
    "    \\sum\\limits_{i=1}^n x_i\\cdot y_i - \n",
    "    \\overline{x}\\sum\\limits_{i=1}^n y_i - \n",
    "    \\overline{y}\\sum\\limits_{i=1}^n x_i + \n",
    "    \\overline{x}\\cdot\\overline{y}\\sum\\limits_{i=1}^n 1 }{n-1} $\n",
    "\n",
    "To make it more readable, let's substitute $S_x = \\sum\\limits_{i=1}^n x_i$ and $S_y = \\sum\\limits_{i=1}^n y_i$\n",
    "\n",
    "$ \\sigma_{xy} = \\frac{\n",
    "    \\sum\\limits_{i=1}^n x_i\\cdot y_i - \n",
    "    \\overline{x}S_y - \n",
    "    \\overline{y}S_x + \n",
    "    \\overline{x}\\cdot\\overline{y}\\cdot n}{n-1} $\n",
    "    \n",
    "substituting $\\overline{x} = \\frac{S_x}{n}$ and $\\overline{y} = \\frac{S_y}{n}$, we have:\n",
    "\n",
    "$ \\sigma_{xy} = \\frac{\n",
    "    \\sum\\limits_{i=1}^n x_i\\cdot y_i - \n",
    "    \\frac{S_x}{n}S_y - \n",
    "    \\frac{S_y}{n}S_x + \n",
    "    \\frac{S_x}{n}\\cdot\\frac{S_y}{n}\\cdot n}{n-1} $\n",
    "\n",
    "$ \\sigma_{xy} = \\frac{\n",
    "    \\sum\\limits_{i=1}^n x_i\\cdot y_i - \n",
    "    \\frac{S_x \\cdot S_y}{n}(-1 - 1 + 1)}{n-1} $\n",
    "    \n",
    "Which can be expressed, by designating the sum of products $\\sum\\limits_{i=1}^n x_i\\cdot y_i = S_{xy}$\n",
    "\n",
    "$ \\sigma_{xy} = \\frac{S_{xy} - \\frac{S_x S_y}{n}}{n-1} $\n",
    "\n",
    "or with sums:\n",
    "\n",
    "$ \\sigma_{xy} = \\frac{\\sum\\limits_{i=1}^n x_i\\cdot y_i - \\frac{\\sum\\limits_{i=1}^n x_i \\cdot \\sum\\limits_{i=1}^n y_i}{n}}{n-1}$\n",
    "\n",
    "Now, in short, if we have population covariance:\n",
    "\n",
    "$ \\sigma_{xy}^{(p)} = \n",
    "\\frac{\\sum\\limits_{i=1}^n x_i\\cdot y_i - \\frac{\\sum\\limits_{i=1}^n x_i \\cdot \\sum\\limits_{i=1}^n y_i}{n}}{n} = \n",
    "\\frac{\\sum\\limits_{i=1}^n x_i\\cdot y_i}{n} \n",
    "  - \\frac{\\sum\\limits_{i=1}^n x_i}{n} \\cdot \\frac{\\sum\\limits_{i=1}^n y_i}{n} =\n",
    "\\overline{x \\cdot y} - \\overline{x} \\cdot \\overline{y}$\n",
    "\n",
    "In words: \"average of the product minus product of the averages\". \n",
    "\n",
    "(Substitute \"expectation\" for \"average\" where applicable)"
   ]
  },
  {
   "cell_type": "code",
   "execution_count": null,
   "metadata": {},
   "outputs": [],
   "source": []
  }
 ],
 "metadata": {
  "kernelspec": {
   "display_name": "Python 3",
   "language": "python",
   "name": "python3"
  },
  "language_info": {
   "codemirror_mode": {
    "name": "ipython",
    "version": 3
   },
   "file_extension": ".py",
   "mimetype": "text/x-python",
   "name": "python",
   "nbconvert_exporter": "python",
   "pygments_lexer": "ipython3",
   "version": "3.7.6"
  }
 },
 "nbformat": 4,
 "nbformat_minor": 2
}
