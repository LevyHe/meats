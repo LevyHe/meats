{
 "cells": [
  {
   "cell_type": "markdown",
   "metadata": {},
   "source": [
    "# Two formulas for standard deviation\n",
    "\n",
    "Ivan Valiela in \"Doing Science\" points to two different ways of computing the standard deviation\n",
    "as a measure of spread. So, now we have computers and spreadsheets, so we go with:\n",
    "\n",
    "$ s = \\sqrt{\\frac{\\sum_{i=1}^{n} (x_i - \\overline{x})}{n-1}} $\n",
    "\n",
    "If we need to add 1 element, we just start from the beginning - updating the $\\overline{x}$, then the average square (variance) and dividing it by the increased $(n-1)$.\n",
    "\n",
    "However, before these happy times we didn't want to recalculate this.\n",
    "\n",
    "So, there was another formula:\n",
    "\n",
    "$ s = \\sqrt{\\frac{\\sum_{i=1}^{n} (x_i^2) - \\frac{(\\sum_{i=1}^{n} x_i)^2}{n}}{n-1}} $\n",
    "\n",
    "(more or less, it's being described in natural language, and via a textual formula with ambiguous \"scopes\" of operations)\n",
    "\n",
    "It should feature \"sum of (data)^2 - \\[(sum of data)^2 / number of data\\].\n",
    "\n",
    "So, we only need to track the sum of samples and sum of squared samples, and whenever we need the current $s$, we'd only do:\n",
    "\n",
    "* one squaring\n",
    "* two divisions\n",
    "* one square root\n",
    "\n",
    "I'd like to test this formula (and maybe debug it's definition) on a few sample populations."
   ]
  },
  {
   "cell_type": "code",
   "execution_count": 10,
   "metadata": {},
   "outputs": [],
   "source": [
    "import numpy as np\n",
    "\n",
    "def stdev_simple(data, ddof=0):\n",
    "    data = np.asarray(data)\n",
    "    return np.sqrt(\n",
    "        ((data ** 2).sum() - data.sum() ** 2 / len(data)) / (len(data) - ddof)\n",
    "    )\n"
   ]
  },
  {
   "cell_type": "code",
   "execution_count": 11,
   "metadata": {},
   "outputs": [
    {
     "data": {
      "text/plain": [
       "(1.4142135623730951, 1.4142135623730951)"
      ]
     },
     "execution_count": 11,
     "metadata": {},
     "output_type": "execute_result"
    }
   ],
   "source": [
    "x = [1, 2, 3, 4, 5]\n",
    "np.std(x), stdev_simple(x)"
   ]
  },
  {
   "cell_type": "code",
   "execution_count": 12,
   "metadata": {},
   "outputs": [
    {
     "data": {
      "text/plain": [
       "(2.8117565684105728, 2.8117565684105728)"
      ]
     },
     "execution_count": 12,
     "metadata": {},
     "output_type": "execute_result"
    }
   ],
   "source": [
    "x = np.random.randint(10, size=(200,))\n",
    "np.std(x), stdev_simple(x)"
   ]
  },
  {
   "cell_type": "code",
   "execution_count": 13,
   "metadata": {},
   "outputs": [
    {
     "data": {
      "text/plain": [
       "(2.8188124303663664, 2.818812430366366)"
      ]
     },
     "execution_count": 13,
     "metadata": {},
     "output_type": "execute_result"
    }
   ],
   "source": [
    "np.std(x, ddof=1), stdev_simple(x, ddof=1)"
   ]
  },
  {
   "cell_type": "markdown",
   "metadata": {},
   "source": [
    "## Moral of the story\n",
    "\n",
    "This is not an approximation or a heuristic - it's just a different form.\n",
    "It is indeed computation friendly by only keeping 2 state variables, which can\n",
    "be updated in $O(1)$ after adding a single sample."
   ]
  },
  {
   "cell_type": "code",
   "execution_count": null,
   "metadata": {},
   "outputs": [],
   "source": []
  }
 ],
 "metadata": {
  "kernelspec": {
   "display_name": "Python 3",
   "language": "python",
   "name": "python3"
  },
  "language_info": {
   "codemirror_mode": {
    "name": "ipython",
    "version": 3
   },
   "file_extension": ".py",
   "mimetype": "text/x-python",
   "name": "python",
   "nbconvert_exporter": "python",
   "pygments_lexer": "ipython3",
   "version": "3.7.5"
  }
 },
 "nbformat": 4,
 "nbformat_minor": 2
}
