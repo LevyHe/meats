{
 "cells": [
  {
   "cell_type": "markdown",
   "metadata": {},
   "source": [
    "Credits:\n",
    "\n",
    "* https://stackoverflow.com/questions/36622237/jupyter-notebook-inline-plots-as-svg\n",
    "* https://en.wikipedia.org/wiki/Gaussian_function"
   ]
  },
  {
   "cell_type": "code",
   "execution_count": null,
   "metadata": {
    "ExecuteTime": {
     "end_time": "2020-03-15T22:32:11.553166Z",
     "start_time": "2020-03-15T22:32:11.366735Z"
    }
   },
   "outputs": [],
   "source": [
    "import matplotlib.pyplot as plt\n",
    "from IPython.display import set_matplotlib_formats\n",
    "%matplotlib inline\n",
    "set_matplotlib_formats('svg')"
   ]
  },
  {
   "cell_type": "code",
   "execution_count": null,
   "metadata": {
    "ExecuteTime": {
     "end_time": "2020-03-15T22:32:11.559258Z",
     "start_time": "2020-03-15T22:32:11.554583Z"
    }
   },
   "outputs": [],
   "source": [
    "import numpy as np\n",
    "\n",
    "def gauss(x, a=1, b=0, c=1):\n",
    "    return a * np.exp(-0.5 * (x-b)**2 / c**2)"
   ]
  },
  {
   "cell_type": "code",
   "execution_count": null,
   "metadata": {
    "ExecuteTime": {
     "end_time": "2020-03-15T22:32:11.767650Z",
     "start_time": "2020-03-15T22:32:11.561729Z"
    }
   },
   "outputs": [],
   "source": [
    "# WHO's rationale for quarantines and lockdowns\n",
    "x = np.linspace(-2, 10, 150)\n",
    "plt.plot(x, gauss(x, a=0.95, b=4, c=2), label='dampened spread')\n",
    "plt.plot(x, gauss(x, a=2, b=1, c=1), label='spontaneus spread')\n",
    "plt.gca().axhline(1, color='g', label='healthcare capacity', linestyle=':')\n",
    "plt.legend();"
   ]
  },
  {
   "cell_type": "code",
   "execution_count": null,
   "metadata": {
    "ExecuteTime": {
     "end_time": "2020-03-15T22:32:11.906262Z",
     "start_time": "2020-03-15T22:32:11.768798Z"
    }
   },
   "outputs": [],
   "source": [
    "# the pessimistic case - quarantine only delays\n",
    "x = np.linspace(-2, 10, 150)\n",
    "plt.plot(x, gauss(x, a=2, b=4, c=1), label='deleayed spread')\n",
    "plt.plot(x, gauss(x, a=2, b=2, c=1), label='spontaneus spread')\n",
    "plt.gca().axhline(1, color='g', label='healthcare capacity', linestyle=':')\n",
    "plt.legend();"
   ]
  }
 ],
 "metadata": {
  "kernelspec": {
   "display_name": "Python 3",
   "language": "python",
   "name": "python3"
  },
  "language_info": {
   "codemirror_mode": {
    "name": "ipython",
    "version": 3
   },
   "file_extension": ".py",
   "mimetype": "text/x-python",
   "name": "python",
   "nbconvert_exporter": "python",
   "pygments_lexer": "ipython3",
   "version": "3.7.3"
  }
 },
 "nbformat": 4,
 "nbformat_minor": 4
}
