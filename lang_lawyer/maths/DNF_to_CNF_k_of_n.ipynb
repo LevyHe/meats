{
 "cells": [
  {
   "cell_type": "code",
   "execution_count": 2,
   "metadata": {},
   "outputs": [],
   "source": [
    "from sympy.abc import A, B, C"
   ]
  },
  {
   "cell_type": "code",
   "execution_count": 3,
   "metadata": {},
   "outputs": [],
   "source": [
    "from sympy.logic.boolalg import to_cnf"
   ]
  },
  {
   "cell_type": "code",
   "execution_count": 4,
   "metadata": {},
   "outputs": [
    {
     "data": {
      "text/latex": [
       "$\\displaystyle \\left(A \\vee B\\right) \\wedge \\left(A \\vee C\\right) \\wedge \\left(A \\vee \\neg A\\right) \\wedge \\left(B \\vee C\\right) \\wedge \\left(B \\vee \\neg B\\right) \\wedge \\left(C \\vee \\neg C\\right) \\wedge \\left(A \\vee B \\vee C\\right) \\wedge \\left(A \\vee B \\vee \\neg A\\right) \\wedge \\left(A \\vee B \\vee \\neg B\\right) \\wedge \\left(A \\vee B \\vee \\neg C\\right) \\wedge \\left(A \\vee C \\vee \\neg A\\right) \\wedge \\left(A \\vee C \\vee \\neg B\\right) \\wedge \\left(A \\vee C \\vee \\neg C\\right) \\wedge \\left(A \\vee \\neg A \\vee \\neg B\\right) \\wedge \\left(A \\vee \\neg A \\vee \\neg C\\right) \\wedge \\left(B \\vee C \\vee \\neg A\\right) \\wedge \\left(B \\vee C \\vee \\neg B\\right) \\wedge \\left(B \\vee C \\vee \\neg C\\right) \\wedge \\left(B \\vee \\neg A \\vee \\neg B\\right) \\wedge \\left(B \\vee \\neg B \\vee \\neg C\\right) \\wedge \\left(C \\vee \\neg A \\vee \\neg C\\right) \\wedge \\left(C \\vee \\neg B \\vee \\neg C\\right) \\wedge \\left(\\neg A \\vee \\neg B \\vee \\neg C\\right)$"
      ],
      "text/plain": [
       "(A | B) & (A | C) & (B | C) & (A | ~A) & (B | ~B) & (C | ~C) & (A | B | C) & (A | B | ~A) & (A | B | ~B) & (A | B | ~C) & (A | C | ~A) & (A | C | ~B) & (A | C | ~C) & (B | C | ~A) & (B | C | ~B) & (B | C | ~C) & (A | ~A | ~B) & (A | ~A | ~C) & (B | ~A | ~B) & (B | ~B | ~C) & (C | ~A | ~C) & (C | ~B | ~C) & (~A | ~B | ~C)"
      ]
     },
     "execution_count": 4,
     "metadata": {},
     "output_type": "execute_result"
    }
   ],
   "source": [
    "to_cnf((~A & B & C) | (A & ~B & C) | (A & B & ~C))"
   ]
  },
  {
   "cell_type": "markdown",
   "metadata": {},
   "source": [
    "This is not great - it even contains reduntant clauses `A | ~A`."
   ]
  },
  {
   "cell_type": "code",
   "execution_count": 5,
   "metadata": {},
   "outputs": [],
   "source": [
    "from sympy.logic.boolalg import simplify_logic"
   ]
  },
  {
   "cell_type": "code",
   "execution_count": 6,
   "metadata": {},
   "outputs": [
    {
     "data": {
      "text/latex": [
       "$\\displaystyle \\left(A \\vee B\\right) \\wedge \\left(A \\vee C\\right) \\wedge \\left(B \\vee C\\right) \\wedge \\left(\\neg A \\vee \\neg B \\vee \\neg C\\right)$"
      ],
      "text/plain": [
       "(A | B) & (A | C) & (B | C) & (~A | ~B | ~C)"
      ]
     },
     "execution_count": 6,
     "metadata": {},
     "output_type": "execute_result"
    }
   ],
   "source": [
    "simplify_logic((~A & B & C) | (A & ~B & C) | (A & B & ~C), form='cnf')"
   ]
  },
  {
   "cell_type": "markdown",
   "metadata": {},
   "source": [
    "Let's try 1 correct out of 3:"
   ]
  },
  {
   "cell_type": "code",
   "execution_count": 10,
   "metadata": {},
   "outputs": [
    {
     "data": {
      "text/latex": [
       "$\\displaystyle \\left(\\neg A \\vee \\neg B\\right) \\wedge \\left(\\neg A \\vee \\neg C\\right) \\wedge \\left(\\neg B \\vee \\neg C\\right) \\wedge \\left(A \\vee B \\vee C\\right)$"
      ],
      "text/plain": [
       "(A | B | C) & (~A | ~B) & (~A | ~C) & (~B | ~C)"
      ]
     },
     "execution_count": 10,
     "metadata": {},
     "output_type": "execute_result"
    }
   ],
   "source": [
    "simplify_logic((A & ~B & ~C) | (~A & B & ~C) | (~A & ~B & C), form='cnf')"
   ]
  },
  {
   "cell_type": "code",
   "execution_count": 9,
   "metadata": {},
   "outputs": [],
   "source": [
    "from sympy.abc import D, E"
   ]
  },
  {
   "cell_type": "markdown",
   "metadata": {},
   "source": [
    "1 of 5"
   ]
  },
  {
   "cell_type": "code",
   "execution_count": 11,
   "metadata": {},
   "outputs": [
    {
     "data": {
      "text/latex": [
       "$\\displaystyle \\left(\\neg A \\vee \\neg B\\right) \\wedge \\left(\\neg A \\vee \\neg C\\right) \\wedge \\left(\\neg A \\vee \\neg D\\right) \\wedge \\left(\\neg A \\vee \\neg E\\right) \\wedge \\left(\\neg B \\vee \\neg C\\right) \\wedge \\left(\\neg B \\vee \\neg D\\right) \\wedge \\left(\\neg B \\vee \\neg E\\right) \\wedge \\left(\\neg C \\vee \\neg D\\right) \\wedge \\left(\\neg C \\vee \\neg E\\right) \\wedge \\left(\\neg D \\vee \\neg E\\right) \\wedge \\left(A \\vee B \\vee C \\vee D \\vee E\\right)$"
      ],
      "text/plain": [
       "(~A | ~B) & (~A | ~C) & (~A | ~D) & (~A | ~E) & (~B | ~C) & (~B | ~D) & (~B | ~E) & (~C | ~D) & (~C | ~E) & (~D | ~E) & (A | B | C | D | E)"
      ]
     },
     "execution_count": 11,
     "metadata": {},
     "output_type": "execute_result"
    }
   ],
   "source": [
    "simplify_logic((A & ~B & ~C & ~D & ~E) \n",
    "               | (~A & B & ~C & ~D & ~E) \n",
    "               | (~A & ~B & C & ~D & ~E)\n",
    "               | (~A & ~B & ~C & D & ~E)\n",
    "               | (~A & ~B & ~C & ~D & E), form='cnf')"
   ]
  },
  {
   "cell_type": "markdown",
   "metadata": {},
   "source": [
    "2 of 5"
   ]
  },
  {
   "cell_type": "code",
   "execution_count": 13,
   "metadata": {},
   "outputs": [
    {
     "name": "stdout",
     "output_type": "stream",
     "text": [
      "(A & B & ~C & ~D & ~E) | (A & C & ~B & ~D & ~E) | (A & D & ~B & ~C & ~E) | (A & E & ~B & ~C & ~D) | (B & C & ~A & ~D & ~E) | (B & D & ~A & ~C & ~E) | (B & E & ~A & ~C & ~D) | (C & D & ~A & ~B & ~E) | (C & E & ~A & ~B & ~D) | (D & E & ~A & ~B & ~C)\n"
     ]
    },
    {
     "data": {
      "text/latex": [
       "$\\displaystyle \\left(\\neg A \\vee \\neg B \\vee \\neg C\\right) \\wedge \\left(\\neg A \\vee \\neg B \\vee \\neg D\\right) \\wedge \\left(\\neg A \\vee \\neg B \\vee \\neg E\\right) \\wedge \\left(\\neg A \\vee \\neg C \\vee \\neg D\\right) \\wedge \\left(\\neg A \\vee \\neg C \\vee \\neg E\\right) \\wedge \\left(\\neg A \\vee \\neg D \\vee \\neg E\\right) \\wedge \\left(\\neg B \\vee \\neg C \\vee \\neg D\\right) \\wedge \\left(\\neg B \\vee \\neg C \\vee \\neg E\\right) \\wedge \\left(\\neg B \\vee \\neg D \\vee \\neg E\\right) \\wedge \\left(\\neg C \\vee \\neg D \\vee \\neg E\\right) \\wedge \\left(A \\vee B \\vee C \\vee D\\right) \\wedge \\left(A \\vee B \\vee C \\vee E\\right) \\wedge \\left(A \\vee B \\vee D \\vee E\\right) \\wedge \\left(A \\vee C \\vee D \\vee E\\right) \\wedge \\left(B \\vee C \\vee D \\vee E\\right)$"
      ],
      "text/plain": [
       "(A | B | C | D) & (A | B | C | E) & (A | B | D | E) & (A | C | D | E) & (B | C | D | E) & (~A | ~B | ~C) & (~A | ~B | ~D) & (~A | ~B | ~E) & (~A | ~C | ~D) & (~A | ~C | ~E) & (~A | ~D | ~E) & (~B | ~C | ~D) & (~B | ~C | ~E) & (~B | ~D | ~E) & (~C | ~D | ~E)"
      ]
     },
     "execution_count": 13,
     "metadata": {},
     "output_type": "execute_result"
    }
   ],
   "source": [
    "from sympy.logic.boolalg import true, false\n",
    "xs = [A, B, C, D, E]\n",
    "\n",
    "clause = false\n",
    "\n",
    "for i in range(len(xs)):\n",
    "    for j in range(i+1, len(xs)):\n",
    "        term = true\n",
    "        for k, x in enumerate(xs):\n",
    "            if k in (i, j):\n",
    "                term &= x\n",
    "            else:\n",
    "                term &= ~x\n",
    "        clause |= term\n",
    "\n",
    "print(clause)\n",
    "simplify_logic(clause, form='cnf')\n",
    "        "
   ]
  },
  {
   "cell_type": "markdown",
   "metadata": {},
   "source": [
    "# Conclusions\n",
    "\n",
    "Read Raymond, and maybe use his great tools: https://rhettinger.github.io/einstein.html\n",
    "\n",
    "What is enough to be observed from the above examples - while you may know (e.g. from solving sudoku with pycosat), that:"
   ]
  },
  {
   "cell_type": "code",
   "execution_count": 17,
   "metadata": {},
   "outputs": [],
   "source": [
    "from itertools import combinations\n",
    "\n",
    "def one_and_only_one(values):\n",
    "    yield values\n",
    "    for a, b in combinations(values, 2):\n",
    "        yield [-a, -b]"
   ]
  },
  {
   "cell_type": "markdown",
   "metadata": {},
   "source": [
    "Raymond has this with `Q(elements) == 1`. This is \"all the elements in sum\", times \"pairs of negated elements\". Easy - one must be true, but in any pair at least one must be false. But this generalizes to \"k of N is true\".\n",
    "\n",
    "So, let's start with the negated part - if $k$ is true, that means in groups of $k+1$ at least one must be false. That's why we take all combinations $C(N, k+1)$ as terms of negated literals.\n",
    "\n",
    "Now, what must be true - is the elements when we remove $(k-1)$ members. Of the remeining $N - k + 1$ elements, one is true. These are $C(N, N-k+1)$ terms."
   ]
  },
  {
   "cell_type": "code",
   "execution_count": 18,
   "metadata": {},
   "outputs": [],
   "source": [
    "def exactly_k(values, k):\n",
    "    n = len(values)\n",
    "    for t in combinations(values, n-k+1):\n",
    "        yield list(t)\n",
    "    for t in combinations(values, k+1):\n",
    "        yield [-x for x in t]\n"
   ]
  },
  {
   "cell_type": "markdown",
   "metadata": {},
   "source": [
    "The above function is general enought for `k==1`."
   ]
  },
  {
   "cell_type": "code",
   "execution_count": 20,
   "metadata": {},
   "outputs": [
    {
     "data": {
      "text/plain": [
       "[[1, 2, 3], [-1, -2], [-1, -3], [-2, -3]]"
      ]
     },
     "execution_count": 20,
     "metadata": {},
     "output_type": "execute_result"
    }
   ],
   "source": [
    "list(exactly_k([1, 2, 3], 1))"
   ]
  },
  {
   "cell_type": "markdown",
   "metadata": {},
   "source": [
    "And interestingly, even for `k==0`:"
   ]
  },
  {
   "cell_type": "code",
   "execution_count": 22,
   "metadata": {},
   "outputs": [
    {
     "data": {
      "text/plain": [
       "[[-1], [-2], [-3]]"
      ]
     },
     "execution_count": 22,
     "metadata": {},
     "output_type": "execute_result"
    }
   ],
   "source": [
    "list(exactly_k([1, 2, 3], 0))"
   ]
  }
 ],
 "metadata": {
  "kernelspec": {
   "display_name": "Python 3",
   "language": "python",
   "name": "python3"
  },
  "language_info": {
   "codemirror_mode": {
    "name": "ipython",
    "version": 3
   },
   "file_extension": ".py",
   "mimetype": "text/x-python",
   "name": "python",
   "nbconvert_exporter": "python",
   "pygments_lexer": "ipython3",
   "version": "3.7.5"
  }
 },
 "nbformat": 4,
 "nbformat_minor": 2
}
