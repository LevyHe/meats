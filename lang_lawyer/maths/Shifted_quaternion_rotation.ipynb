{
 "cells": [
  {
   "cell_type": "markdown",
   "metadata": {},
   "source": [
    "# Quaternion rotation matrix with custom axis"
   ]
  },
  {
   "cell_type": "code",
   "execution_count": 5,
   "metadata": {
    "collapsed": true
   },
   "outputs": [],
   "source": [
    "from sympy import pprint, symbols\n",
    "from sympy.matrices import Matrix"
   ]
  },
  {
   "cell_type": "code",
   "execution_count": 8,
   "metadata": {
    "collapsed": false
   },
   "outputs": [],
   "source": [
    "a, b, c, d = symbols('qw, qx, qy, qz')"
   ]
  },
  {
   "cell_type": "code",
   "execution_count": 31,
   "metadata": {
    "collapsed": false
   },
   "outputs": [],
   "source": [
    "R = Matrix([\n",
    "                [a * a + b * b - c * c - d * d, 2 * (b * c - a * d), 2 * (b * d + a * c), 0],\n",
    "                [2 * (b * c + a * d), a * a - b * b + c * c - d * d, 2 * (c * d - a * b), 0],\n",
    "                [2 * (b * d - a * c), 2 * (c * d - a * b), a * a - b * b - c * c + d * d, 0],\n",
    "                [0, 0, 0, 1]\n",
    "            ])"
   ]
  },
  {
   "cell_type": "markdown",
   "metadata": {},
   "source": [
    "This is a standard rotation matrix around (0, 0, 0) for the unit quaternion **q**."
   ]
  },
  {
   "cell_type": "code",
   "execution_count": 32,
   "metadata": {
    "collapsed": false
   },
   "outputs": [
    {
     "data": {
      "text/plain": [
       "Matrix([\n",
       "[qw**2 + qx**2 - qy**2 - qz**2,            -2*qw*qz + 2*qx*qy,             2*qw*qy + 2*qx*qz, 0],\n",
       "[            2*qw*qz + 2*qx*qy, qw**2 - qx**2 + qy**2 - qz**2,            -2*qw*qx + 2*qy*qz, 0],\n",
       "[           -2*qw*qy + 2*qx*qz,            -2*qw*qx + 2*qy*qz, qw**2 - qx**2 - qy**2 + qz**2, 0],\n",
       "[                            0,                             0,                             0, 1]])"
      ]
     },
     "execution_count": 32,
     "metadata": {},
     "output_type": "execute_result"
    }
   ],
   "source": [
    "R"
   ]
  },
  {
   "cell_type": "markdown",
   "metadata": {},
   "source": [
    "Now we want to have the rotation around an axis going through point (x, y, z)."
   ]
  },
  {
   "cell_type": "code",
   "execution_count": 11,
   "metadata": {
    "collapsed": true
   },
   "outputs": [],
   "source": [
    "x, y, z = symbols('x, y, z')"
   ]
  },
  {
   "cell_type": "code",
   "execution_count": 24,
   "metadata": {
    "collapsed": true
   },
   "outputs": [],
   "source": [
    "T1 = Matrix([\n",
    "    [1, 0, 0, -x],\n",
    "    [0, 1, 0, -y],\n",
    "    [0, 0, 1, -z],\n",
    "    [0, 0, 0, 1]\n",
    "])"
   ]
  },
  {
   "cell_type": "code",
   "execution_count": 25,
   "metadata": {
    "collapsed": true
   },
   "outputs": [],
   "source": [
    "T2 = Matrix([\n",
    "    [1, 0, 0, x],\n",
    "    [0, 1, 0, y],\n",
    "    [0, 0, 1, z],\n",
    "    [0, 0, 0, 1]\n",
    "])"
   ]
  },
  {
   "cell_type": "code",
   "execution_count": 23,
   "metadata": {
    "collapsed": false
   },
   "outputs": [
    {
     "name": "stdout",
     "output_type": "stream",
     "text": [
      "⎡  2     2     2     2                                                   ⎤\n",
      "⎢qw  + qx  - qy  - qz    -2⋅qw⋅qz + 2⋅qx⋅qy      2⋅qw⋅qy + 2⋅qx⋅qz    0.0⎥\n",
      "⎢                                                                        ⎥\n",
      "⎢                         2     2     2     2                            ⎥\n",
      "⎢  2⋅qw⋅qz + 2⋅qx⋅qy    qw  - qx  + qy  - qz    -2⋅qw⋅qx + 2⋅qy⋅qz    0.0⎥\n",
      "⎢                                                                        ⎥\n",
      "⎢                                                2     2     2     2     ⎥\n",
      "⎢ -2⋅qw⋅qy + 2⋅qx⋅qz     -2⋅qw⋅qx + 2⋅qy⋅qz    qw  - qx  - qy  + qz   0.0⎥\n",
      "⎢                                                                        ⎥\n",
      "⎣         0.0                    0.0                    0.0           1.0⎦\n"
     ]
    }
   ],
   "source": [
    "pprint(R)"
   ]
  },
  {
   "cell_type": "code",
   "execution_count": 33,
   "metadata": {
    "collapsed": false
   },
   "outputs": [
    {
     "name": "stdout",
     "output_type": "stream",
     "text": [
      "⎡  2     2     2     2                                                    ⎛  2\n",
      "⎢qw  + qx  - qy  - qz    -2⋅qw⋅qz + 2⋅qx⋅qy      2⋅qw⋅qy + 2⋅qx⋅qz    - x⋅⎝qw \n",
      "⎢                                                                             \n",
      "⎢                         2     2     2     2                                 \n",
      "⎢  2⋅qw⋅qz + 2⋅qx⋅qy    qw  - qx  + qy  - qz    -2⋅qw⋅qx + 2⋅qy⋅qz    -x⋅(2⋅qw\n",
      "⎢                                                                             \n",
      "⎢                                                2     2     2     2          \n",
      "⎢ -2⋅qw⋅qy + 2⋅qx⋅qz     -2⋅qw⋅qx + 2⋅qy⋅qz    qw  - qx  - qy  + qz   -x⋅(-2⋅q\n",
      "⎢                                                                             \n",
      "⎣          0                      0                      0                    \n",
      "\n",
      "     2     2     2⎞                                                 ⎤\n",
      " + qx  - qy  - qz ⎠ - y⋅(-2⋅qw⋅qz + 2⋅qx⋅qy) - z⋅(2⋅qw⋅qy + 2⋅qx⋅qz)⎥\n",
      "                                                                    ⎥\n",
      "                   ⎛  2     2     2     2⎞                          ⎥\n",
      "⋅qz + 2⋅qx⋅qy) - y⋅⎝qw  - qx  + qy  - qz ⎠ - z⋅(-2⋅qw⋅qx + 2⋅qy⋅qz) ⎥\n",
      "                                                                    ⎥\n",
      "                                             ⎛  2     2     2     2⎞⎥\n",
      "w⋅qy + 2⋅qx⋅qz) - y⋅(-2⋅qw⋅qx + 2⋅qy⋅qz) - z⋅⎝qw  - qx  - qy  + qz ⎠⎥\n",
      "                                                                    ⎥\n",
      "                             1                                      ⎦\n"
     ]
    }
   ],
   "source": [
    "pprint(R @ T1)"
   ]
  },
  {
   "cell_type": "code",
   "execution_count": 34,
   "metadata": {
    "collapsed": false
   },
   "outputs": [
    {
     "name": "stdout",
     "output_type": "stream",
     "text": [
      "⎡  2     2     2     2                                                    ⎛  2\n",
      "⎢qw  + qx  - qy  - qz    -2⋅qw⋅qz + 2⋅qx⋅qy      2⋅qw⋅qy + 2⋅qx⋅qz    - x⋅⎝qw \n",
      "⎢                                                                             \n",
      "⎢                         2     2     2     2                                 \n",
      "⎢  2⋅qw⋅qz + 2⋅qx⋅qy    qw  - qx  + qy  - qz    -2⋅qw⋅qx + 2⋅qy⋅qz    -x⋅(2⋅qw\n",
      "⎢                                                                             \n",
      "⎢                                                2     2     2     2          \n",
      "⎢ -2⋅qw⋅qy + 2⋅qx⋅qz     -2⋅qw⋅qx + 2⋅qy⋅qz    qw  - qx  - qy  + qz   -x⋅(-2⋅q\n",
      "⎢                                                                             \n",
      "⎣          0                      0                      0                    \n",
      "\n",
      "     2     2     2⎞                                                     ⎤\n",
      " + qx  - qy  - qz ⎠ + x - y⋅(-2⋅qw⋅qz + 2⋅qx⋅qy) - z⋅(2⋅qw⋅qy + 2⋅qx⋅qz)⎥\n",
      "                                                                        ⎥\n",
      "                   ⎛  2     2     2     2⎞                              ⎥\n",
      "⋅qz + 2⋅qx⋅qy) - y⋅⎝qw  - qx  + qy  - qz ⎠ + y - z⋅(-2⋅qw⋅qx + 2⋅qy⋅qz) ⎥\n",
      "                                                                        ⎥\n",
      "                                             ⎛  2     2     2     2⎞    ⎥\n",
      "w⋅qy + 2⋅qx⋅qz) - y⋅(-2⋅qw⋅qx + 2⋅qy⋅qz) - z⋅⎝qw  - qx  - qy  + qz ⎠ + z⎥\n",
      "                                                                        ⎥\n",
      "                               1                                        ⎦\n"
     ]
    }
   ],
   "source": [
    "pprint(T2 @ R @ T1)"
   ]
  },
  {
   "cell_type": "markdown",
   "metadata": {},
   "source": [
    "Not surprisingly, the \"rotational part\" (first 3 rows) of this transform matrix stays the same.\n",
    "This is expected -- the rotated object should have the same orientation/pose, but its position\n",
    "needs to be adjusted. Thus the complicated 4th column."
   ]
  },
  {
   "cell_type": "code",
   "execution_count": null,
   "metadata": {
    "collapsed": true
   },
   "outputs": [],
   "source": []
  }
 ],
 "metadata": {
  "kernelspec": {
   "display_name": "Python 3",
   "language": "python",
   "name": "python3"
  },
  "language_info": {
   "codemirror_mode": {
    "name": "ipython",
    "version": 3
   },
   "file_extension": ".py",
   "mimetype": "text/x-python",
   "name": "python",
   "nbconvert_exporter": "python",
   "pygments_lexer": "ipython3",
   "version": "3.5.2"
  }
 },
 "nbformat": 4,
 "nbformat_minor": 2
}
