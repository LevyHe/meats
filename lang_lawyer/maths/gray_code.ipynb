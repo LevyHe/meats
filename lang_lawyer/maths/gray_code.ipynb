{
 "cells": [
  {
   "cell_type": "code",
   "execution_count": 3,
   "metadata": {
    "ExecuteTime": {
     "end_time": "2020-04-19T10:35:48.995017Z",
     "start_time": "2020-04-19T10:35:48.983656Z"
    }
   },
   "outputs": [],
   "source": [
    "def gray_str(n):\n",
    "    assert n > 0\n",
    "    if n == 1:\n",
    "        yield '1'\n",
    "        yield '0'\n",
    "        return\n",
    "    # generator is not reversible\n",
    "    prev = list(gray_str(n-1))\n",
    "    for rest in prev:\n",
    "        yield '1' + rest\n",
    "    for rest in reversed(prev):\n",
    "        yield '0' + rest"
   ]
  },
  {
   "cell_type": "code",
   "execution_count": 5,
   "metadata": {
    "ExecuteTime": {
     "end_time": "2020-04-19T10:40:04.180266Z",
     "start_time": "2020-04-19T10:40:04.168239Z"
    }
   },
   "outputs": [
    {
     "data": {
      "text/plain": [
       "['111', '110', '100', '101', '001', '000', '010', '011']"
      ]
     },
     "execution_count": 5,
     "metadata": {},
     "output_type": "execute_result"
    }
   ],
   "source": [
    "list(gray_str(3))"
   ]
  },
  {
   "cell_type": "code",
   "execution_count": 13,
   "metadata": {
    "ExecuteTime": {
     "end_time": "2020-04-19T14:15:29.309399Z",
     "start_time": "2020-04-19T14:15:29.305952Z"
    }
   },
   "outputs": [],
   "source": [
    "from itertools import cycle, islice\n",
    "\n",
    "def gray_change(n):\n",
    "    assert n > 0\n",
    "    if n == 1:\n",
    "        yield from cycle((-1, 1))\n",
    "        \n",
    "    val = -n\n",
    "    for x in gray_change(n-1):\n",
    "        yield x\n",
    "        yield val\n",
    "        val = -val"
   ]
  },
  {
   "cell_type": "code",
   "execution_count": 14,
   "metadata": {
    "ExecuteTime": {
     "end_time": "2020-04-19T14:15:29.788710Z",
     "start_time": "2020-04-19T14:15:29.776488Z"
    }
   },
   "outputs": [
    {
     "data": {
      "text/plain": [
       "[-1, -3, -2, 3, 1, -3, 2, 3]"
      ]
     },
     "execution_count": 14,
     "metadata": {},
     "output_type": "execute_result"
    }
   ],
   "source": [
    "list(islice(gray_change(3), 8))"
   ]
  },
  {
   "cell_type": "code",
   "execution_count": 16,
   "metadata": {
    "ExecuteTime": {
     "end_time": "2020-04-19T18:03:51.111387Z",
     "start_time": "2020-04-19T18:03:51.093998Z"
    }
   },
   "outputs": [
    {
     "name": "stdout",
     "output_type": "stream",
     "text": [
      "0 [0, 1, 1]\n",
      "1 [0, 1, 0]\n",
      "2 [0, 0, 0]\n",
      "3 [0, 0, 1]\n",
      "4 [1, 0, 1]\n",
      "5 [1, 0, 0]\n",
      "6 [1, 1, 0]\n",
      "7 [1, 1, 1]\n"
     ]
    }
   ],
   "source": [
    "vals = [1, 1, 1]\n",
    "for i, g in zip(range(8), gray_change(3)):\n",
    "    # need to be 0-indexed, so abs(g) - 1\n",
    "    # g // abs(g) = sgn(g)\n",
    "    vals[abs(g) - 1] += g // abs(g)\n",
    "    print(i, vals)"
   ]
  },
  {
   "cell_type": "code",
   "execution_count": 19,
   "metadata": {
    "ExecuteTime": {
     "end_time": "2020-04-19T18:09:01.312462Z",
     "start_time": "2020-04-19T18:09:01.300741Z"
    }
   },
   "outputs": [],
   "source": [
    "def gray_change_finite(n):\n",
    "    assert n > 0\n",
    "    if n == 1:\n",
    "        yield -1\n",
    "        yield 1\n",
    "        return        \n",
    "    val = -n\n",
    "    for x in gray_change_finite(n-1):\n",
    "        yield x\n",
    "        yield val\n",
    "        val = -val"
   ]
  },
  {
   "cell_type": "code",
   "execution_count": 20,
   "metadata": {
    "ExecuteTime": {
     "end_time": "2020-04-19T18:09:01.792775Z",
     "start_time": "2020-04-19T18:09:01.780964Z"
    }
   },
   "outputs": [
    {
     "data": {
      "text/plain": [
       "[-1, -4, -3, 4, -2, -4, 3, 4, 1, -4, -3, 4, 2, -4, 3, 4]"
      ]
     },
     "execution_count": 20,
     "metadata": {},
     "output_type": "execute_result"
    }
   ],
   "source": [
    "list(gray_change_finite(4))"
   ]
  },
  {
   "cell_type": "code",
   "execution_count": 26,
   "metadata": {
    "ExecuteTime": {
     "end_time": "2020-04-19T18:12:17.325543Z",
     "start_time": "2020-04-19T18:12:17.314975Z"
    }
   },
   "outputs": [],
   "source": [
    "def gray_by_changes(n):\n",
    "    assert n > 0\n",
    "    vals = [1] * n\n",
    "    for g in gray_change_finite(n):\n",
    "        vals[abs(g) - 1] += g // abs(g)\n",
    "        yield vals[:]"
   ]
  },
  {
   "cell_type": "code",
   "execution_count": 27,
   "metadata": {
    "ExecuteTime": {
     "end_time": "2020-04-19T18:12:17.593567Z",
     "start_time": "2020-04-19T18:12:17.585394Z"
    }
   },
   "outputs": [
    {
     "data": {
      "text/plain": [
       "[[0, 1, 1, 1],\n",
       " [0, 1, 1, 0],\n",
       " [0, 1, 0, 0],\n",
       " [0, 1, 0, 1],\n",
       " [0, 0, 0, 1],\n",
       " [0, 0, 0, 0],\n",
       " [0, 0, 1, 0],\n",
       " [0, 0, 1, 1],\n",
       " [1, 0, 1, 1],\n",
       " [1, 0, 1, 0],\n",
       " [1, 0, 0, 0],\n",
       " [1, 0, 0, 1],\n",
       " [1, 1, 0, 1],\n",
       " [1, 1, 0, 0],\n",
       " [1, 1, 1, 0],\n",
       " [1, 1, 1, 1]]"
      ]
     },
     "execution_count": 27,
     "metadata": {},
     "output_type": "execute_result"
    }
   ],
   "source": [
    "list(gray_by_changes(4))"
   ]
  },
  {
   "cell_type": "code",
   "execution_count": 29,
   "metadata": {
    "ExecuteTime": {
     "end_time": "2020-04-19T18:27:46.631673Z",
     "start_time": "2020-04-19T18:27:46.618623Z"
    }
   },
   "outputs": [
    {
     "data": {
      "text/plain": [
       "['1111',\n",
       " '1110',\n",
       " '1100',\n",
       " '1101',\n",
       " '1001',\n",
       " '1000',\n",
       " '1010',\n",
       " '1011',\n",
       " '0011',\n",
       " '0010',\n",
       " '0000',\n",
       " '0001',\n",
       " '0101',\n",
       " '0100',\n",
       " '0110',\n",
       " '0111']"
      ]
     },
     "execution_count": 29,
     "metadata": {},
     "output_type": "execute_result"
    }
   ],
   "source": [
    "list(gray_str(4))"
   ]
  },
  {
   "cell_type": "markdown",
   "metadata": {},
   "source": [
    "Now let's stop here. I already thought my recursive generator algorithm was wrong, but it simply generates the sequence in a bit different order.\n",
    "\n",
    "Now let me look to the spoilers, erm, cheat sheet, I mean, the professional reference (\"Hacker's Delight\" by Warren). I expect to find there one of two things - either a closed form formula (which would allow to produce the elements in parallel - vectorized), or at least some iterative hack - some mask for xoring the last element - not parallelizable, but wouldn't need a deep stack like my recurrences..."
   ]
  },
  {
   "cell_type": "markdown",
   "metadata": {},
   "source": [
    "### After the reading\n",
    "\n",
    "OK, actually there is a lot of gray codes, something like $2^n n!$ for $n$ bit words. But some are not cyclical, and some are not reflective.\n",
    "\n",
    "The one that starts with `0000` and ends with `1000` is called reflective binary Gray code, and it maps nicely from ints:\n",
    "\n",
    "$ G = B \\oplus (B \\gg 1) $\n",
    "\n",
    "The inverse is quite crazy, because we need to XOR together all the shifts!\n",
    "\n",
    "$ B = \\bigoplus\\limits_{i=0}^{n-1} (G \\gg i) $\n",
    "\n",
    "(just found out that `\\oplus` doesn't work with `\\limits`, but `\\bigoplus` does...)\n",
    "\n"
   ]
  },
  {
   "cell_type": "code",
   "execution_count": 36,
   "metadata": {
    "ExecuteTime": {
     "end_time": "2020-04-19T21:14:26.599728Z",
     "start_time": "2020-04-19T21:14:26.595567Z"
    }
   },
   "outputs": [
    {
     "data": {
      "text/plain": [
       "'00001010'"
      ]
     },
     "execution_count": 36,
     "metadata": {},
     "output_type": "execute_result"
    }
   ],
   "source": [
    "# inventing hack for zero-padding:\n",
    "'{:0{}d}'.format(int(bin(10)[2:]), 8)"
   ]
  },
  {
   "cell_type": "code",
   "execution_count": 48,
   "metadata": {
    "ExecuteTime": {
     "end_time": "2020-04-19T21:19:36.581707Z",
     "start_time": "2020-04-19T21:19:36.578688Z"
    }
   },
   "outputs": [],
   "source": [
    "def gray(n, bits=4):\n",
    "    assert n >= 0\n",
    "    value = n ^ (n >> 1)\n",
    "    if bits is None:\n",
    "        return value\n",
    "    # return n, value, bin(value)[2:]\n",
    "    return '{:0{}d}'.format(int(bin(value)[2:]), bits)"
   ]
  },
  {
   "cell_type": "code",
   "execution_count": 49,
   "metadata": {
    "ExecuteTime": {
     "end_time": "2020-04-19T21:19:37.044355Z",
     "start_time": "2020-04-19T21:19:37.032259Z"
    }
   },
   "outputs": [
    {
     "data": {
      "text/plain": [
       "['0000',\n",
       " '0001',\n",
       " '0011',\n",
       " '0010',\n",
       " '0110',\n",
       " '0111',\n",
       " '0101',\n",
       " '0100',\n",
       " '1100',\n",
       " '1101',\n",
       " '1111',\n",
       " '1110',\n",
       " '1010',\n",
       " '1011',\n",
       " '1001',\n",
       " '1000']"
      ]
     },
     "execution_count": 49,
     "metadata": {},
     "output_type": "execute_result"
    }
   ],
   "source": [
    "[gray(i) for i in range(16)]"
   ]
  },
  {
   "cell_type": "markdown",
   "metadata": {},
   "source": [
    "### Further reading\n",
    "\n",
    "Well, there are some obscure algorithms e.g. to increment a number while in Gray code (without decoding to binary and back).\n",
    "\n",
    "There are also non-binary Gray codes, $(n, k)$-gray code, e.g. $(10, 3)$ are 3-digit decimals. They would go from `000` to `999`,\n",
    "by changing digits by $1$ between successive elements? Not sure if this can be made cyclical really.\n",
    "\n",
    "\n",
    "Why? Well because in binary numbers, the basic 1-digit number is itself cyclical: $0, 1, 0, 1, \\dots$\n",
    "Can this be done for $0, 1, 2, \\dots$? It doesn't seem so.\n",
    "\n",
    "Let's have a look: $00, 01, 02, 12, 11, 10$ - this would be cyclical, up till here, but now there comes $20, 21, 22$ to complete\n",
    "the code for all the $ 2^3 = 9 $ two digit ternary numbers."
   ]
  },
  {
   "cell_type": "code",
   "execution_count": null,
   "metadata": {},
   "outputs": [],
   "source": []
  }
 ],
 "metadata": {
  "kernelspec": {
   "display_name": "Python 3",
   "language": "python",
   "name": "python3"
  },
  "language_info": {
   "codemirror_mode": {
    "name": "ipython",
    "version": 3
   },
   "file_extension": ".py",
   "mimetype": "text/x-python",
   "name": "python",
   "nbconvert_exporter": "python",
   "pygments_lexer": "ipython3",
   "version": "3.7.6"
  }
 },
 "nbformat": 4,
 "nbformat_minor": 4
}
