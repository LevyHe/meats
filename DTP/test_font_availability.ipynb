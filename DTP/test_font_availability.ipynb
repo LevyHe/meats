{
 "cells": [
  {
   "cell_type": "code",
   "execution_count": 7,
   "metadata": {},
   "outputs": [],
   "source": [
    "# https://stackoverflow.com/questions/4899885/how-to-set-any-font-in-reportlab-canvas-in-python\n",
    "\n",
    "from reportlab.pdfgen import canvas\n",
    "\n",
    "pdf = canvas.Canvas('test.pdf')\n",
    "# pdf.setFont('Tahoma', 16)\n",
    "# KeyError: 'Tahoma'"
   ]
  },
  {
   "cell_type": "code",
   "execution_count": 8,
   "metadata": {},
   "outputs": [],
   "source": [
    "# https://stackoverflow.com/a/4900031/1338797\n",
    "from reportlab.pdfbase import pdfmetrics\n",
    "from reportlab.pdfbase.ttfonts import TTFont\n",
    "\n",
    "'''\n",
    "pdfmetrics.registerFont(TTFont('Vera', 'Vera.ttf'))\n",
    "pdfmetrics.registerFont(TTFont('VeraBd', 'VeraBd.ttf'))\n",
    "pdfmetrics.registerFont(TTFont('VeraIt', 'VeraIt.ttf'))\n",
    "pdfmetrics.registerFont(TTFont('VeraBI', 'VeraBI.ttf'))\n",
    "'''\n",
    "\n",
    "pdf.setFont('Vera', 32)\n",
    "pdf.drawString(10, 150, \"Some text? Zażółć gęślą jaźń!\")\n",
    "pdf.drawString(10, 100, \"In the Vera TT Font!\")"
   ]
  },
  {
   "cell_type": "code",
   "execution_count": 9,
   "metadata": {},
   "outputs": [
    {
     "data": {
      "text/plain": [
       "0"
      ]
     },
     "execution_count": 9,
     "metadata": {},
     "output_type": "execute_result"
    }
   ],
   "source": [
    "pdf.save()\n",
    "import os\n",
    "os.system('xdg-open test.pdf')"
   ]
  },
  {
   "cell_type": "code",
   "execution_count": 4,
   "metadata": {},
   "outputs": [
    {
     "data": {
      "text/plain": [
       "['Courier',\n",
       " 'Courier-Bold',\n",
       " 'Courier-BoldOblique',\n",
       " 'Courier-Oblique',\n",
       " 'Helvetica',\n",
       " 'Helvetica-Bold',\n",
       " 'Helvetica-BoldOblique',\n",
       " 'Helvetica-Oblique',\n",
       " 'Symbol',\n",
       " 'Times-Bold',\n",
       " 'Times-BoldItalic',\n",
       " 'Times-Italic',\n",
       " 'Times-Roman',\n",
       " 'Vera',\n",
       " 'ZapfDingbats']"
      ]
     },
     "execution_count": 4,
     "metadata": {},
     "output_type": "execute_result"
    }
   ],
   "source": [
    "pdf.getAvailableFonts()"
   ]
  },
  {
   "cell_type": "code",
   "execution_count": 16,
   "metadata": {},
   "outputs": [
    {
     "data": {
      "text/plain": [
       "['/usr/share/fonts', '/usr/share/fonts/TTF', '/usr/share/fonts/ubuntu']"
      ]
     },
     "execution_count": 16,
     "metadata": {},
     "output_type": "execute_result"
    }
   ],
   "source": [
    "# https://stackoverflow.com/a/52450839/1338797\n",
    "from reportlab import rl_config\n",
    "[path for path in rl_config.TTFSearchPath if '/home/' not in path]"
   ]
  },
  {
   "cell_type": "code",
   "execution_count": 14,
   "metadata": {},
   "outputs": [],
   "source": [
    "rl_config.TTFSearchPath.append('/usr/share/fonts/ubuntu')"
   ]
  },
  {
   "cell_type": "code",
   "execution_count": 17,
   "metadata": {},
   "outputs": [],
   "source": [
    "pdfmetrics.registerFont(TTFont('Ubuntu-L', 'Ubuntu-L.ttf'))"
   ]
  },
  {
   "cell_type": "code",
   "execution_count": 10,
   "metadata": {},
   "outputs": [],
   "source": [
    "pdf2 = canvas.Canvas('test2.pdf')"
   ]
  },
  {
   "cell_type": "code",
   "execution_count": 11,
   "metadata": {},
   "outputs": [
    {
     "data": {
      "text/plain": [
       "['Courier',\n",
       " 'Courier-Bold',\n",
       " 'Courier-BoldOblique',\n",
       " 'Courier-Oblique',\n",
       " 'Helvetica',\n",
       " 'Helvetica-Bold',\n",
       " 'Helvetica-BoldOblique',\n",
       " 'Helvetica-Oblique',\n",
       " 'Symbol',\n",
       " 'Times-Bold',\n",
       " 'Times-BoldItalic',\n",
       " 'Times-Italic',\n",
       " 'Times-Roman',\n",
       " 'ZapfDingbats']"
      ]
     },
     "execution_count": 11,
     "metadata": {},
     "output_type": "execute_result"
    }
   ],
   "source": [
    "pdf2.getAvailableFonts()"
   ]
  },
  {
   "cell_type": "code",
   "execution_count": 13,
   "metadata": {},
   "outputs": [],
   "source": [
    "TTFont('Ubuntu', 'Ubuntu-L.ttf')\n",
    "pdfmetrics.registerFont(TTFont('Ubuntu-L', 'Ubuntu-L.ttf'))"
   ]
  },
  {
   "cell_type": "code",
   "execution_count": 14,
   "metadata": {},
   "outputs": [],
   "source": [
    "pdf2.setFont('Ubuntu-L', 20)"
   ]
  },
  {
   "cell_type": "code",
   "execution_count": 16,
   "metadata": {},
   "outputs": [
    {
     "data": {
      "text/plain": [
       "0"
      ]
     },
     "execution_count": 16,
     "metadata": {},
     "output_type": "execute_result"
    }
   ],
   "source": [
    "pdf2.drawString(10, 150, \"Some text? Zażółć gęślą jaźń!\")\n",
    "pdf2.drawString(10, 100, \"In the Ubuntu-L Font!\")\n",
    "\n",
    "pdf2.save()\n",
    "os.system('xdg-open test2.pdf')"
   ]
  },
  {
   "cell_type": "markdown",
   "metadata": {},
   "source": [
    "### Results:\n",
    "The unicode support depends on the font. In case of the default fonts (even Vera), they lack it.\n",
    "Ubuntu-L, when installed properly, in TTFSearchPath, then 'loaded' (TTFont(...)), and registered\n",
    "in `pdfmetrics`, will render the string correctly."
   ]
  },
  {
   "cell_type": "code",
   "execution_count": 25,
   "metadata": {},
   "outputs": [
    {
     "data": {
      "text/plain": [
       "{'ZapfDingbats': <Font ZapfDingbats>,\n",
       " 'Symbol': <Font Symbol>,\n",
       " 'Helvetica': <Font Helvetica>,\n",
       " 'Vera': <reportlab.pdfbase.ttfonts.TTFont at 0x7f99aa780748>,\n",
       " 'VeraBd': <reportlab.pdfbase.ttfonts.TTFont at 0x7f99aa7806a0>,\n",
       " 'VeraIt': <reportlab.pdfbase.ttfonts.TTFont at 0x7f99aa78bfd0>,\n",
       " 'VeraBI': <reportlab.pdfbase.ttfonts.TTFont at 0x7f99aa7966a0>,\n",
       " 'Ubuntu-L': <reportlab.pdfbase.ttfonts.TTFont at 0x7f99aa10a898>}"
      ]
     },
     "execution_count": 25,
     "metadata": {},
     "output_type": "execute_result"
    }
   ],
   "source": [
    "pdfmetrics._fonts"
   ]
  },
  {
   "cell_type": "code",
   "execution_count": 27,
   "metadata": {},
   "outputs": [
    {
     "data": {
      "text/plain": [
       "['Courier',\n",
       " 'Courier-Bold',\n",
       " 'Courier-BoldOblique',\n",
       " 'Courier-Oblique',\n",
       " 'Helvetica',\n",
       " 'Helvetica-Bold',\n",
       " 'Helvetica-BoldOblique',\n",
       " 'Helvetica-Oblique',\n",
       " 'Symbol',\n",
       " 'Times-Bold',\n",
       " 'Times-BoldItalic',\n",
       " 'Times-Italic',\n",
       " 'Times-Roman',\n",
       " 'ZapfDingbats']"
      ]
     },
     "execution_count": 27,
     "metadata": {},
     "output_type": "execute_result"
    }
   ],
   "source": [
    "pdf2.getAvailableFonts()"
   ]
  },
  {
   "cell_type": "code",
   "execution_count": 28,
   "metadata": {},
   "outputs": [],
   "source": [
    "# as you see, it didn't update!\n",
    "# But after registerFont(), the key is there allright."
   ]
  }
 ],
 "metadata": {
  "kernelspec": {
   "display_name": "Python 3",
   "language": "python",
   "name": "python3"
  },
  "language_info": {
   "codemirror_mode": {
    "name": "ipython",
    "version": 3
   },
   "file_extension": ".py",
   "mimetype": "text/x-python",
   "name": "python",
   "nbconvert_exporter": "python",
   "pygments_lexer": "ipython3",
   "version": "3.7.3"
  }
 },
 "nbformat": 4,
 "nbformat_minor": 2
}
