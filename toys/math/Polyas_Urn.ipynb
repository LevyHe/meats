{
 "cells": [
  {
   "cell_type": "code",
   "execution_count": 5,
   "metadata": {},
   "outputs": [],
   "source": [
    "from __future__ import division\n",
    "import random\n",
    "\n",
    "def simulate(n, case=min):\n",
    "    urns = [1, 1]\n",
    "    for i in range(2, n):\n",
    "        if random.randrange(i) < urns[0]:\n",
    "            urns[0] += 1\n",
    "        else:\n",
    "            urns[1] += 1\n",
    "    return case(urns)\n",
    "\n",
    "def estimate(n, tries=1000, sim=simulate, case=min):\n",
    "    return sum(sim(n, case) for _ in range(tries)) / tries\n"
   ]
  },
  {
   "cell_type": "code",
   "execution_count": 19,
   "metadata": {
    "collapsed": true
   },
   "outputs": [],
   "source": [
    "def histogram(n, tries=1000, sim=simulate):\n",
    "    stats = [0] * ((n+2) // 2)\n",
    "    for _ in range(tries):\n",
    "        stats[sim(n)] += 1\n",
    "    return stats\n",
    "\n",
    "def distribute(n, tries=1000, sim=simulate):\n",
    "    return [s / tries for s in histogram(n, tries)]\n"
   ]
  },
  {
   "cell_type": "code",
   "execution_count": 10,
   "metadata": {},
   "outputs": [
    {
     "data": {
      "text/plain": [
       "[1.50048, 1.4962, 1.49741]"
      ]
     },
     "execution_count": 10,
     "metadata": {},
     "output_type": "execute_result"
    }
   ],
   "source": [
    "[estimate(5, tries=10**5) for _ in range(3)]"
   ]
  },
  {
   "cell_type": "code",
   "execution_count": 13,
   "metadata": {},
   "outputs": [
    {
     "name": "stdout",
     "output_type": "stream",
     "text": [
      "Wall time: 0 ns\n"
     ]
    },
    {
     "data": {
      "text/plain": [
       "[2.67003, 2.66717, 2.66694]"
      ]
     },
     "execution_count": 13,
     "metadata": {},
     "output_type": "execute_result"
    }
   ],
   "source": [
    "%time\n",
    "[estimate(4, tries=10**5, case=max) for _ in range(3)]"
   ]
  },
  {
   "cell_type": "code",
   "execution_count": 16,
   "metadata": {},
   "outputs": [
    {
     "name": "stdout",
     "output_type": "stream",
     "text": [
      "5 [1.5019, 1.50234, 1.50049]\n",
      "6 [1.80572, 1.80082, 1.7966]\n",
      "7 [1.99922, 2.00135, 1.99977]\n",
      "8 [2.28481, 2.28678, 2.2826]\n",
      "9 [2.50554, 2.49643, 2.49904]\n",
      "Wall time: 10.1 s\n"
     ]
    }
   ],
   "source": [
    "%%time\n",
    "for i in range(5, 10):\n",
    "    print(i, [estimate(i, tries=10**5) for _ in range(3)])"
   ]
  },
  {
   "cell_type": "code",
   "execution_count": 21,
   "metadata": {},
   "outputs": [
    {
     "name": "stdout",
     "output_type": "stream",
     "text": [
      "3 [0.0, 1.0]\n",
      "4 [0.0, 0.66739, 0.33261]\n",
      "5 [0.0, 0.50165, 0.49835]\n",
      "6 [0.0, 0.39884, 0.40104, 0.20012]\n",
      "7 [0.0, 0.33609, 0.33471, 0.3292]\n",
      "8 [0.0, 0.28628, 0.2864, 0.28516, 0.14216]\n",
      "9 [0.0, 0.25261, 0.24991, 0.24897, 0.24851]\n",
      "10 [0.0, 0.21981, 0.22395, 0.22072, 0.22243, 0.11309]\n",
      "11 [0.0, 0.20194, 0.19858, 0.20128, 0.19807, 0.20013]\n",
      "12 [0.0, 0.18369, 0.18046, 0.18154, 0.1823, 0.18197, 0.09004]\n",
      "13 [0.0, 0.16602, 0.16517, 0.1669, 0.16815, 0.16603, 0.16773]\n",
      "14 [0.0, 0.15387, 0.15315, 0.15472, 0.15422, 0.15396, 0.15287, 0.07721]\n",
      "15 [0.0, 0.1421, 0.1444, 0.14341, 0.14076, 0.1428, 0.14286, 0.14367]\n",
      "16 [0.0, 0.13284, 0.13435, 0.13198, 0.13534, 0.13122, 0.13437, 0.13232, 0.06758]\n",
      "17 [0.0, 0.12444, 0.12528, 0.12529, 0.12533, 0.1249, 0.12558, 0.12513, 0.12405]\n",
      "18 [0.0, 0.11702, 0.11666, 0.11852, 0.11831, 0.11599, 0.11744, 0.11891, 0.11831, 0.05884]\n",
      "19 [0.0, 0.11182, 0.11215, 0.11196, 0.11184, 0.1101, 0.1107, 0.11007, 0.11142, 0.10994]\n",
      "Wall time: 19.9 s\n"
     ]
    }
   ],
   "source": [
    "%%time\n",
    "for i in range(3, 20):\n",
    "    print(i, distribute(i, tries=10**5))"
   ]
  },
  {
   "cell_type": "markdown",
   "metadata": {},
   "source": [
    "There is a nice pattern over here:\n",
    "\n",
    "$ 2 \\rightarrow [0, 1]$\n",
    "\n",
    "$ 3 \\rightarrow [0, 1]$\n",
    "\n",
    "What next?\n",
    "\n",
    "$ 4 \\rightarrow [0, \\frac{2}{3}, \\frac{1}{3}] $\n",
    "\n",
    "$ 5 \\rightarrow [0, \\frac{1}{2}, \\frac{1}{2}] \\rightarrow [0, \\frac{2}{4}, \\frac{2}{4}] $"
   ]
  },
  {
   "cell_type": "code",
   "execution_count": 23,
   "metadata": {},
   "outputs": [],
   "source": [
    "def estimate2(n, tries=10**5):\n",
    "    return sum(n * x for n, x in zip(range(n), distribute(n, tries=tries)))"
   ]
  },
  {
   "cell_type": "code",
   "execution_count": 24,
   "metadata": {},
   "outputs": [
    {
     "name": "stdout",
     "output_type": "stream",
     "text": [
      "5 1.50099\n",
      "6 1.80036\n",
      "7 2.00139\n",
      "8 2.28547\n",
      "9 2.50619\n",
      "Wall time: 3.49 s\n"
     ]
    }
   ],
   "source": [
    "%%time\n",
    "for i in range(5, 10):\n",
    "    print(i, estimate(i, tries=10**5))"
   ]
  },
  {
   "cell_type": "markdown",
   "metadata": {},
   "source": [
    "$ \\frac{2}{N - 1} \\cdot \\sum_{i = 1}^{\\lfloor \\frac{N}{2} \\rfloor} i $"
   ]
  },
  {
   "cell_type": "code",
   "execution_count": 25,
   "metadata": {
    "collapsed": true
   },
   "outputs": [],
   "source": [
    "def calculate(n):\n",
    "    if n % 2 == 1:\n",
    "        max_coins = n // 2 # floor\n",
    "        # s = (max_coins + 1) * max_coins / 2\n",
    "        # return 2 * s / (n - 1)\n",
    "        return (max_coins + 1) * max_coins / (n - 1)\n",
    "    max_coins = n // 2 # equal\n",
    "    s = (max_coins) * (max_coins-1) / 2\n",
    "    return 2 * s / (n-1) + max_coins / (n - 1)\n",
    "\n",
    "        "
   ]
  },
  {
   "cell_type": "code",
   "execution_count": 26,
   "metadata": {},
   "outputs": [
    {
     "name": "stdout",
     "output_type": "stream",
     "text": [
      "5 1.5\n",
      "6 1.7999999999999998\n",
      "7 2.0\n",
      "8 2.2857142857142856\n",
      "9 2.5\n",
      "Wall time: 1 ms\n"
     ]
    }
   ],
   "source": [
    "%%time\n",
    "for i in range(5, 10):\n",
    "    print(i, calculate(i))"
   ]
  },
  {
   "cell_type": "code",
   "execution_count": 27,
   "metadata": {},
   "outputs": [
    {
     "data": {
      "text/plain": [
       "250000.25000025"
      ]
     },
     "execution_count": 27,
     "metadata": {},
     "output_type": "execute_result"
    }
   ],
   "source": [
    "calculate(10**6)"
   ]
  },
  {
   "cell_type": "markdown",
   "metadata": {},
   "source": [
    "As you all see, the expected value of coins in the emptier urn is about 250,000.25 &mdash; how much should one pay for that? I think it's up to you, I would be happy to get this urn for free.\n",
    "\n",
    "This is noticeably close to $\\frac{1}{4} N$, which should not be so surprising: this is the limit in $\\infty$.\n",
    "\n",
    "Except for this pattern that I discovered, I can't intuitively explain why this is so."
   ]
  },
  {
   "cell_type": "code",
   "execution_count": null,
   "metadata": {
    "collapsed": true
   },
   "outputs": [],
   "source": []
  }
 ],
 "metadata": {
  "kernelspec": {
   "display_name": "Python 3",
   "language": "python",
   "name": "python3"
  },
  "language_info": {
   "codemirror_mode": {
    "name": "ipython",
    "version": 3
   },
   "file_extension": ".py",
   "mimetype": "text/x-python",
   "name": "python",
   "nbconvert_exporter": "python",
   "pygments_lexer": "ipython3",
   "version": "3.6.2"
  }
 },
 "nbformat": 4,
 "nbformat_minor": 2
}
