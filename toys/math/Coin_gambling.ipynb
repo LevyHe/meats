{
 "cells": [
  {
   "cell_type": "markdown",
   "metadata": {},
   "source": [
    "# Coin toss bet strategy\n",
    "\n",
    "In a typical situation &#8211; playing with a symmetrical coin, and having \\$20 to spend, with the intention do double this amount. Is it better to bet all in one go, or play succesively, betting \\$1 unitil either succeeding to double, or loosing everyting?"
   ]
  },
  {
   "cell_type": "code",
   "execution_count": null,
   "metadata": {},
   "outputs": [],
   "source": [
    "import numpy as np\n",
    "\n",
    "import matplotlib.pylab as plt\n",
    "\n",
    "def next_probability(a):\n",
    "    a = np.asarray(a)\n",
    "    b = np.zeros_like(a)\n",
    "    b[0] = a[0]\n",
    "    b[-1] = a[-1]\n",
    "    b[:-2] += 0.5 * a[1:-1]\n",
    "    b[2:] += 0.5 * a[1:-1]\n",
    "    return b\n",
    "    \n",
    "def gen_mod():\n",
    "    \"\"\"Generate True with exponentially decreasing frequency.\"\"\"\n",
    "    mod = 1\n",
    "    while True:\n",
    "        for i in range(9):\n",
    "            yield True\n",
    "            for _ in range(mod-1):\n",
    "                yield False\n",
    "        mod *= 10"
   ]
  },
  {
   "cell_type": "code",
   "execution_count": null,
   "metadata": {},
   "outputs": [],
   "source": [
    "a = [0, 1., 0]\n",
    "next_probability(a)"
   ]
  },
  {
   "cell_type": "code",
   "execution_count": null,
   "metadata": {},
   "outputs": [],
   "source": [
    "a = np.zeros(41)\n",
    "a[20] = 1\n",
    "\n",
    "for i, do_plot in zip(range(1000), gen_mod()):\n",
    "    a = next_probability(a)\n",
    "    if do_plot:\n",
    "        plt.figure()\n",
    "        plt.title('After {} throws'.format(i+1))\n",
    "        plt.plot(a)"
   ]
  },
  {
   "cell_type": "markdown",
   "metadata": {},
   "source": [
    "To sum up, the intuition does not fail in this case &ndash; there is no difference in the expected outcome. But the game of course is much shorter when going 'all&nbsp;in'."
   ]
  },
  {
   "cell_type": "code",
   "execution_count": null,
   "metadata": {},
   "outputs": [],
   "source": []
  }
 ],
 "metadata": {
  "kernelspec": {
   "display_name": "Python 3",
   "language": "python",
   "name": "python3"
  },
  "language_info": {
   "codemirror_mode": {
    "name": "ipython",
    "version": 2
   },
   "file_extension": ".py",
   "mimetype": "text/x-python",
   "name": "python",
   "nbconvert_exporter": "python",
   "pygments_lexer": "ipython2",
   "version": "2.7.12"
  }
 },
 "nbformat": 4,
 "nbformat_minor": 2
}
