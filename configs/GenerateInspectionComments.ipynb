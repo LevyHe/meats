{
 "cells": [
  {
   "cell_type": "code",
   "execution_count": 1,
   "metadata": {
    "collapsed": true
   },
   "outputs": [],
   "source": [
    "from xml.etree.ElementTree import ElementTree"
   ]
  },
  {
   "cell_type": "code",
   "execution_count": 11,
   "metadata": {},
   "outputs": [],
   "source": [
    "et = ElementTree().parse('PycharmDisabledInspections.xml')"
   ]
  },
  {
   "cell_type": "code",
   "execution_count": 22,
   "metadata": {},
   "outputs": [],
   "source": [
    "classes = [el.attrib['class'] for el in et.findall('profile/inspection_tool')]"
   ]
  },
  {
   "cell_type": "code",
   "execution_count": 28,
   "metadata": {},
   "outputs": [],
   "source": [
    "comments = ''.join(f\"# noinspection {c.replace('Inspection', '')}\\n\" for c in classes)"
   ]
  },
  {
   "cell_type": "code",
   "execution_count": 29,
   "metadata": {},
   "outputs": [
    {
     "name": "stdout",
     "output_type": "stream",
     "text": [
      "# noinspection CommandLine\n",
      "# noinspection CythonUsageBeforeDeclaration\n",
      "# noinspection PyAbstractClass\n",
      "# noinspection PyArgumentList\n",
      "# noinspection PyAssignmentToLoopOrWithParameter\n",
      "# noinspection PyAsyncCall\n",
      "# noinspection PyAttributeOutsideInit\n",
      "# noinspection PyBDDParameters\n",
      "# noinspection PyBroadException\n",
      "# noinspection PyByteLiteral\n",
      "# noinspection PyCallByClass\n",
      "# noinspection PyCallingNonCallable\n",
      "# noinspection PyChainedComparisons\n",
      "# noinspection PyClassHasNoInit\n",
      "# noinspection PyComparisonWithNone\n",
      "# noinspection PyCompatibility\n",
      "# noinspection PyDataclass\n",
      "# noinspection PyDecorator\n",
      "# noinspection PyDefaultArgument\n",
      "# noinspection PyDeprecation\n",
      "# noinspection PyDictCreation\n",
      "# noinspection PyDictDuplicateKeys\n",
      "# noinspection PyDocstringTypes\n",
      "# noinspection PyDunderSlots\n",
      "# noinspection PyExceptClausesOrder\n",
      "# noinspection PyExceptionInherit\n",
      "# noinspection PyFromFutureImport\n",
      "# noinspection PyGlobalUndefined\n",
      "# noinspection PyInconsistentIndentation\n",
      "# noinspection PyIncorrectDocstring\n",
      "# noinspection PyInitNewSignature\n",
      "# noinspection PyInterpreter\n",
      "# noinspection PyListCreation\n",
      "# noinspection PyMethodFirstArgAssignment\n",
      "# noinspection PyMethodMayBeStatic\n",
      "# noinspection PyMethodOverriding\n",
      "# noinspection PyMethodParameters\n",
      "# noinspection PyMissingConstructor\n",
      "# noinspection PyNamedTuple\n",
      "# noinspection PyNestedDecorators\n",
      "# noinspection PyNonAsciiChar\n",
      "# noinspection PyNoneFunctionAssignment\n",
      "# noinspection PyOldStyleClasses\n",
      "# noinspection PyOverloads\n",
      "# noinspection PyPackageRequirements\n",
      "# noinspection PyPep8\n",
      "# noinspection PyPep8Naming\n",
      "# noinspection PyPropertyAccess\n",
      "# noinspection PyPropertyDefinition\n",
      "# noinspection PyProtectedMember\n",
      "# noinspection PyProtocol\n",
      "# noinspection PyRedeclaration\n",
      "# noinspection PyRedundantParentheses\n",
      "# noinspection PyReturnFromInit\n",
      "# noinspection PySetFunctionToLiteral\n",
      "# noinspection PyShadowingBuiltins\n",
      "# noinspection PyShadowingNames\n",
      "# noinspection PySimplifyBooleanCheck\n",
      "# noinspection PySingleQuotedDocstring\n",
      "# noinspection PyStatementEffect\n",
      "# noinspection PyStringException\n",
      "# noinspection PyStringFormat\n",
      "# noinspection PySuperArguments\n",
      "# noinspection PyTestParametrized\n",
      "# noinspection PyTrailingSemicolon\n",
      "# noinspection PyTupleAssignmentBalance\n",
      "# noinspection PyTupleItemAssignment\n",
      "# noinspection PyTypeChecker\n",
      "# noinspection PyTypeHints\n",
      "# noinspection PyUnboundLocalVariable\n",
      "# noinspection PyUnnecessaryBackslash\n",
      "# noinspection PyUnreachableCode\n",
      "# noinspection PyUnresolvedReferences\n",
      "# noinspection PyUnusedLocal\n",
      "\n"
     ]
    }
   ],
   "source": [
    "print(comments)"
   ]
  },
  {
   "cell_type": "code",
   "execution_count": 30,
   "metadata": {},
   "outputs": [
    {
     "data": {
      "text/plain": [
       "2463"
      ]
     },
     "execution_count": 30,
     "metadata": {},
     "output_type": "execute_result"
    }
   ],
   "source": [
    "open('pycharm_inspection_comments.txt', 'w').write(comments)"
   ]
  },
  {
   "cell_type": "code",
   "execution_count": null,
   "metadata": {
    "collapsed": true
   },
   "outputs": [],
   "source": []
  }
 ],
 "metadata": {
  "kernelspec": {
   "display_name": "Python 3",
   "language": "python",
   "name": "python3"
  },
  "language_info": {
   "codemirror_mode": {
    "name": "ipython",
    "version": 3
   },
   "file_extension": ".py",
   "mimetype": "text/x-python",
   "name": "python",
   "nbconvert_exporter": "python",
   "pygments_lexer": "ipython3",
   "version": "3.6.2"
  }
 },
 "nbformat": 4,
 "nbformat_minor": 2
}
